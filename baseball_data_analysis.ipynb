{
 "cells": [
  {
   "cell_type": "markdown",
   "metadata": {},
   "source": [
    "# Baseball Data: a thorough analysis \n",
    "#### A data set containing complete batting and pitching statistics from 1871 to 2014, plus fielding statistics, standings, team stats, managerial records, post-season data, and more. \n",
    "\n",
    "#### the data is available at: http://www.seanlahman.com/baseball-archive/statistics/"
   ]
  },
  {
   "cell_type": "markdown",
   "metadata": {},
   "source": [
    "### Focus of our analysis\n",
    "#### Our analysis will focus on players salaries:\n",
    "- What is the salary evolution?\n",
    "- Were different teams awarded different salaries?\n",
    "    - were the difference justified?\n",
    "- Did awarded players earn more on average?\n",
    "- What was the influence of appearances on salary?\n",
    "- Did the college attended influence salary of players?\n",
    "- Were the players with the best statistics awarded the with the best salaries?"
   ]
  },
  {
   "cell_type": "markdown",
   "metadata": {},
   "source": [
    "### Packages needed"
   ]
  },
  {
   "cell_type": "code",
   "execution_count": 1,
   "metadata": {
    "collapsed": false
   },
   "outputs": [],
   "source": [
    "# Import General Packages\n",
    "import numpy as np\n",
    "import pandas as pd\n",
    "\n",
    "# Import plotting/graphics packages\n",
    "import matplotlib.pyplot as plt\n",
    "import seaborn as sns \n",
    "\n",
    "# Graphics inline \n",
    "%matplotlib inline\n",
    "\n",
    "pd.set_option('display.max_columns', None)\n",
    "pd.set_option('display.max_rows', None)"
   ]
  },
  {
   "cell_type": "markdown",
   "metadata": {},
   "source": [
    "### Importing the datasets of interest \n",
    "\n",
    "Main tables:\n",
    "- MASTER - Player names, DOB, and biographical info\n",
    "- Batting - batting statistics\n",
    "- Pitching - pitching statistics\n",
    "- Fielding - fielding statistics\n",
    "\n",
    "\n",
    "Supplemented by theses tables \n",
    "- Teams - yearly stats and standings \n",
    "- Salaries - player salary data\n",
    "- AwardsPlayers - awards won by players\n",
    "- AwardsSharePlayers - award voting for player awards\n",
    "- Appearances - details on the positions a player appeared at\n",
    "- Schools - list of colleges that players attended\n",
    "- CollegePlaying - list of players and the colleges they attended"
   ]
  },
  {
   "cell_type": "code",
   "execution_count": 132,
   "metadata": {
    "collapsed": false
   },
   "outputs": [],
   "source": [
    "master = pd.read_csv('baseballdatabank-2017.1/core/Master.csv')\n",
    "batting = pd.read_csv('baseballdatabank-2017.1/core/Batting.csv')\n",
    "pitching = pd.read_csv('baseballdatabank-2017.1/core/Pitching.csv')\n",
    "fielding = pd.read_csv('baseballdatabank-2017.1/core/Fielding.csv')\n",
    "teams = pd.read_csv('baseballdatabank-2017.1/core/Teams.csv')\n",
    "salaries = pd.read_csv('baseballdatabank-2017.1/core/Salaries.csv')\n",
    "awardPlayers = pd.read_csv('baseballdatabank-2017.1/core/AwardsPlayers.csv')\n",
    "awardsSharePlayers = pd.read_csv('baseballdatabank-2017.1/core/AwardsSharePlayers.csv')\n",
    "appearances = pd.read_csv('baseballdatabank-2017.1/core/Appearances.csv')\n",
    "schools = pd.read_csv('baseballdatabank-2017.1/core/Schools.csv')\n",
    "collegePlaying = pd.read_csv('baseballdatabank-2017.1/core/CollegePlaying.csv')\n",
    "managers = pd.read_csv('baseballdatabank-2017.1/core/Managers.csv')"
   ]
  },
  {
   "cell_type": "markdown",
   "metadata": {},
   "source": [
    "### External Data ###\n",
    "#### Consumer Price Index from: https://data.bls.gov/timeseries/\n",
    "I assume that the data for salaries is not adjusted to inflation (since no information could be found in the documentation). Therefore, we are going to adjust our salary data to inflation."
   ]
  },
  {
   "cell_type": "code",
   "execution_count": 3,
   "metadata": {
    "collapsed": false
   },
   "outputs": [],
   "source": [
    "cpi_data = pd.read_excel('cpi_usa_85_2016.xlsx', header=10, index_col=None)"
   ]
  },
  {
   "cell_type": "code",
   "execution_count": 4,
   "metadata": {
    "collapsed": false
   },
   "outputs": [
    {
     "data": {
      "text/html": [
       "<div>\n",
       "<table border=\"1\" class=\"dataframe\">\n",
       "  <thead>\n",
       "    <tr style=\"text-align: right;\">\n",
       "      <th></th>\n",
       "      <th>Year</th>\n",
       "      <th>Jan</th>\n",
       "      <th>Feb</th>\n",
       "      <th>Mar</th>\n",
       "      <th>Apr</th>\n",
       "      <th>May</th>\n",
       "      <th>Jun</th>\n",
       "      <th>Jul</th>\n",
       "      <th>Aug</th>\n",
       "      <th>Sep</th>\n",
       "      <th>Oct</th>\n",
       "      <th>Nov</th>\n",
       "      <th>Dec</th>\n",
       "      <th>HALF1</th>\n",
       "      <th>HALF2</th>\n",
       "    </tr>\n",
       "  </thead>\n",
       "  <tbody>\n",
       "    <tr>\n",
       "      <th>27</th>\n",
       "      <td>2012</td>\n",
       "      <td>226.665</td>\n",
       "      <td>227.663</td>\n",
       "      <td>229.392</td>\n",
       "      <td>230.085</td>\n",
       "      <td>229.815</td>\n",
       "      <td>229.478</td>\n",
       "      <td>229.104</td>\n",
       "      <td>230.379</td>\n",
       "      <td>231.407</td>\n",
       "      <td>231.317</td>\n",
       "      <td>230.221</td>\n",
       "      <td>229.601</td>\n",
       "      <td>228.850</td>\n",
       "      <td>230.338</td>\n",
       "    </tr>\n",
       "    <tr>\n",
       "      <th>28</th>\n",
       "      <td>2013</td>\n",
       "      <td>230.280</td>\n",
       "      <td>232.166</td>\n",
       "      <td>232.773</td>\n",
       "      <td>232.531</td>\n",
       "      <td>232.945</td>\n",
       "      <td>233.504</td>\n",
       "      <td>233.596</td>\n",
       "      <td>233.877</td>\n",
       "      <td>234.149</td>\n",
       "      <td>233.546</td>\n",
       "      <td>233.069</td>\n",
       "      <td>233.049</td>\n",
       "      <td>232.366</td>\n",
       "      <td>233.548</td>\n",
       "    </tr>\n",
       "    <tr>\n",
       "      <th>29</th>\n",
       "      <td>2014</td>\n",
       "      <td>233.916</td>\n",
       "      <td>234.781</td>\n",
       "      <td>236.293</td>\n",
       "      <td>237.072</td>\n",
       "      <td>237.900</td>\n",
       "      <td>238.343</td>\n",
       "      <td>238.250</td>\n",
       "      <td>237.852</td>\n",
       "      <td>238.031</td>\n",
       "      <td>237.433</td>\n",
       "      <td>236.151</td>\n",
       "      <td>234.812</td>\n",
       "      <td>236.384</td>\n",
       "      <td>237.088</td>\n",
       "    </tr>\n",
       "    <tr>\n",
       "      <th>30</th>\n",
       "      <td>2015</td>\n",
       "      <td>233.707</td>\n",
       "      <td>234.722</td>\n",
       "      <td>236.119</td>\n",
       "      <td>236.599</td>\n",
       "      <td>237.805</td>\n",
       "      <td>238.638</td>\n",
       "      <td>238.654</td>\n",
       "      <td>238.316</td>\n",
       "      <td>237.945</td>\n",
       "      <td>237.838</td>\n",
       "      <td>237.336</td>\n",
       "      <td>236.525</td>\n",
       "      <td>236.265</td>\n",
       "      <td>237.769</td>\n",
       "    </tr>\n",
       "    <tr>\n",
       "      <th>31</th>\n",
       "      <td>2016</td>\n",
       "      <td>236.916</td>\n",
       "      <td>237.111</td>\n",
       "      <td>238.132</td>\n",
       "      <td>239.261</td>\n",
       "      <td>240.229</td>\n",
       "      <td>241.018</td>\n",
       "      <td>240.628</td>\n",
       "      <td>240.849</td>\n",
       "      <td>241.428</td>\n",
       "      <td>241.729</td>\n",
       "      <td>241.353</td>\n",
       "      <td>241.432</td>\n",
       "      <td>238.778</td>\n",
       "      <td>241.237</td>\n",
       "    </tr>\n",
       "  </tbody>\n",
       "</table>\n",
       "</div>"
      ],
      "text/plain": [
       "    Year      Jan      Feb      Mar      Apr      May      Jun      Jul  \\\n",
       "27  2012  226.665  227.663  229.392  230.085  229.815  229.478  229.104   \n",
       "28  2013  230.280  232.166  232.773  232.531  232.945  233.504  233.596   \n",
       "29  2014  233.916  234.781  236.293  237.072  237.900  238.343  238.250   \n",
       "30  2015  233.707  234.722  236.119  236.599  237.805  238.638  238.654   \n",
       "31  2016  236.916  237.111  238.132  239.261  240.229  241.018  240.628   \n",
       "\n",
       "        Aug      Sep      Oct      Nov      Dec    HALF1    HALF2  \n",
       "27  230.379  231.407  231.317  230.221  229.601  228.850  230.338  \n",
       "28  233.877  234.149  233.546  233.069  233.049  232.366  233.548  \n",
       "29  237.852  238.031  237.433  236.151  234.812  236.384  237.088  \n",
       "30  238.316  237.945  237.838  237.336  236.525  236.265  237.769  \n",
       "31  240.849  241.428  241.729  241.353  241.432  238.778  241.237  "
      ]
     },
     "execution_count": 4,
     "metadata": {},
     "output_type": "execute_result"
    }
   ],
   "source": [
    "cpi_data.tail()"
   ]
  },
  {
   "cell_type": "code",
   "execution_count": 5,
   "metadata": {
    "collapsed": false
   },
   "outputs": [],
   "source": [
    "#Taking the average of HALF1 and HALF 2 to form a yearly CPI\n",
    "yearly_cpi = pd.DataFrame({'Year': cpi_data.Year,'inflation':(cpi_data.HALF1+cpi_data.HALF2)/2}) "
   ]
  },
  {
   "cell_type": "code",
   "execution_count": 6,
   "metadata": {
    "collapsed": false
   },
   "outputs": [
    {
     "data": {
      "text/html": [
       "<div>\n",
       "<table border=\"1\" class=\"dataframe\">\n",
       "  <thead>\n",
       "    <tr style=\"text-align: right;\">\n",
       "      <th></th>\n",
       "      <th>Year</th>\n",
       "      <th>inflation</th>\n",
       "    </tr>\n",
       "  </thead>\n",
       "  <tbody>\n",
       "    <tr>\n",
       "      <th>27</th>\n",
       "      <td>2012</td>\n",
       "      <td>229.5940</td>\n",
       "    </tr>\n",
       "    <tr>\n",
       "      <th>28</th>\n",
       "      <td>2013</td>\n",
       "      <td>232.9570</td>\n",
       "    </tr>\n",
       "    <tr>\n",
       "      <th>29</th>\n",
       "      <td>2014</td>\n",
       "      <td>236.7360</td>\n",
       "    </tr>\n",
       "    <tr>\n",
       "      <th>30</th>\n",
       "      <td>2015</td>\n",
       "      <td>237.0170</td>\n",
       "    </tr>\n",
       "    <tr>\n",
       "      <th>31</th>\n",
       "      <td>2016</td>\n",
       "      <td>240.0075</td>\n",
       "    </tr>\n",
       "  </tbody>\n",
       "</table>\n",
       "</div>"
      ],
      "text/plain": [
       "    Year  inflation\n",
       "27  2012   229.5940\n",
       "28  2013   232.9570\n",
       "29  2014   236.7360\n",
       "30  2015   237.0170\n",
       "31  2016   240.0075"
      ]
     },
     "execution_count": 6,
     "metadata": {},
     "output_type": "execute_result"
    }
   ],
   "source": [
    "yearly_cpi.tail()"
   ]
  },
  {
   "cell_type": "markdown",
   "metadata": {
    "collapsed": false
   },
   "source": [
    "### Let's adjust our data to inflation "
   ]
  },
  {
   "cell_type": "code",
   "execution_count": 7,
   "metadata": {
    "collapsed": false
   },
   "outputs": [],
   "source": [
    "dict_inflation = dict(zip(yearly_cpi.Year, yearly_cpi.inflation));"
   ]
  },
  {
   "cell_type": "code",
   "execution_count": 8,
   "metadata": {
    "collapsed": false
   },
   "outputs": [],
   "source": [
    "salaries['CPI'] = salaries['yearID'].map(dict_inflation)"
   ]
  },
  {
   "cell_type": "code",
   "execution_count": 9,
   "metadata": {
    "collapsed": true
   },
   "outputs": [],
   "source": [
    "cpi_2016 = yearly_cpi[yearly_cpi['Year']==2016]['inflation'].values[0]"
   ]
  },
  {
   "cell_type": "code",
   "execution_count": 10,
   "metadata": {
    "collapsed": false
   },
   "outputs": [
    {
     "data": {
      "text/html": [
       "<div>\n",
       "<table border=\"1\" class=\"dataframe\">\n",
       "  <thead>\n",
       "    <tr style=\"text-align: right;\">\n",
       "      <th></th>\n",
       "      <th>yearID</th>\n",
       "      <th>teamID</th>\n",
       "      <th>lgID</th>\n",
       "      <th>playerID</th>\n",
       "      <th>salary</th>\n",
       "      <th>CPI</th>\n",
       "    </tr>\n",
       "  </thead>\n",
       "  <tbody>\n",
       "    <tr>\n",
       "      <th>0</th>\n",
       "      <td>1985</td>\n",
       "      <td>ATL</td>\n",
       "      <td>NL</td>\n",
       "      <td>barkele01</td>\n",
       "      <td>870000</td>\n",
       "      <td>107.55</td>\n",
       "    </tr>\n",
       "    <tr>\n",
       "      <th>1</th>\n",
       "      <td>1985</td>\n",
       "      <td>ATL</td>\n",
       "      <td>NL</td>\n",
       "      <td>bedrost01</td>\n",
       "      <td>550000</td>\n",
       "      <td>107.55</td>\n",
       "    </tr>\n",
       "    <tr>\n",
       "      <th>2</th>\n",
       "      <td>1985</td>\n",
       "      <td>ATL</td>\n",
       "      <td>NL</td>\n",
       "      <td>benedbr01</td>\n",
       "      <td>545000</td>\n",
       "      <td>107.55</td>\n",
       "    </tr>\n",
       "    <tr>\n",
       "      <th>3</th>\n",
       "      <td>1985</td>\n",
       "      <td>ATL</td>\n",
       "      <td>NL</td>\n",
       "      <td>campri01</td>\n",
       "      <td>633333</td>\n",
       "      <td>107.55</td>\n",
       "    </tr>\n",
       "    <tr>\n",
       "      <th>4</th>\n",
       "      <td>1985</td>\n",
       "      <td>ATL</td>\n",
       "      <td>NL</td>\n",
       "      <td>ceronri01</td>\n",
       "      <td>625000</td>\n",
       "      <td>107.55</td>\n",
       "    </tr>\n",
       "  </tbody>\n",
       "</table>\n",
       "</div>"
      ],
      "text/plain": [
       "   yearID teamID lgID   playerID  salary     CPI\n",
       "0    1985    ATL   NL  barkele01  870000  107.55\n",
       "1    1985    ATL   NL  bedrost01  550000  107.55\n",
       "2    1985    ATL   NL  benedbr01  545000  107.55\n",
       "3    1985    ATL   NL   campri01  633333  107.55\n",
       "4    1985    ATL   NL  ceronri01  625000  107.55"
      ]
     },
     "execution_count": 10,
     "metadata": {},
     "output_type": "execute_result"
    }
   ],
   "source": [
    "salaries.head()"
   ]
  },
  {
   "cell_type": "code",
   "execution_count": 11,
   "metadata": {
    "collapsed": false
   },
   "outputs": [],
   "source": [
    "salaries['salary_adj'] = (salaries['salary']/salaries['CPI'])*cpi_2016"
   ]
  },
  {
   "cell_type": "code",
   "execution_count": 12,
   "metadata": {
    "collapsed": false
   },
   "outputs": [],
   "source": [
    "mean_salary_pa_adj = salaries.groupby(['yearID']).mean()['salary_adj']\n",
    "median_salary_pa_adj = salaries.groupby(['yearID']).median()['salary_adj']\n",
    "max_salary_pa_adj = salaries.groupby(['yearID']).max()['salary_adj']\n",
    "top_quartile_pa_adj1 = salaries.groupby\\\n",
    "                               ('yearID', group_keys=False).apply\\\n",
    "                               (lambda g: g[g.salary_adj>= g.salary_adj.quantile(0.75)]).reset_index(drop=True)\n",
    "top_quartile_pa_adj = top_quartile_pa_adj1.groupby('yearID')['salary_adj'].mean()"
   ]
  },
  {
   "cell_type": "markdown",
   "metadata": {},
   "source": [
    "# Salary data, graphical analysis"
   ]
  },
  {
   "cell_type": "code",
   "execution_count": 13,
   "metadata": {
    "collapsed": true
   },
   "outputs": [],
   "source": [
    "mean_salary_pa = salaries.groupby(['yearID']).mean()['salary']\n",
    "median_salary_pa = salaries.groupby(['yearID']).median()['salary']\n",
    "max_salary_pa = salaries.groupby(['yearID']).max()['salary']\n",
    "top_quartile_pa1 = salaries.groupby\\\n",
    "                               ('yearID', group_keys=False).apply\\\n",
    "                               (lambda g: g[g.salary>= g.salary.quantile(0.75)]).reset_index(drop=True)\n",
    "top_quartile_pa = top_quartile_pa1.groupby('yearID')['salary'].mean()"
   ]
  },
  {
   "cell_type": "code",
   "execution_count": 14,
   "metadata": {
    "collapsed": false
   },
   "outputs": [
    {
     "data": {
      "text/plain": [
       "<matplotlib.text.Text at 0x1125a0e90>"
      ]
     },
     "execution_count": 14,
     "metadata": {},
     "output_type": "execute_result"
    },
    {
     "data": {
      "image/png": "[encoded data removed]",
      "text/plain": [
       "<matplotlib.figure.Figure at 0x112c75a10>"
      ]
     },
     "metadata": {},
     "output_type": "display_data"
    }
   ],
   "source": [
    "plt.figure(figsize=(15,8)) \n",
    "plt.suptitle('Understanding salaries differences (dashed-lines are inflation-adjusted)', fontsize=20)\n",
    "\n",
    "plt.subplot(1, 2, 1)\n",
    "plt.plot(mean_salary_pa, label='mean', c='blue')\n",
    "plt.plot(mean_salary_pa_adj, ls='--',c='blue', label='')\n",
    "plt.plot(median_salary_pa, label='median', c='green')\n",
    "plt.plot(median_salary_pa_adj, label='', c='green', ls='--')\n",
    "\n",
    "plt.legend(loc='upper left')\n",
    "plt.xlabel('Years')\n",
    "plt.ylabel('Salary')\n",
    "plt.title('Mean and Median')\n",
    "\n",
    "plt.subplot(1, 2, 2)\n",
    "plt.plot(mean_salary_pa, label='mean', c='r')\n",
    "plt.plot(mean_salary_pa_adj, label='', c='r', ls='--')\n",
    "plt.plot(median_salary_pa, label='median', c='g')\n",
    "plt.plot(median_salary_pa_adj, label='', c='g', ls='--')\n",
    "plt.plot(max_salary_pa, label='max', c='y')\n",
    "plt.plot(max_salary_pa_adj, label='', c='y', ls='--')\n",
    "plt.plot(top_quartile_pa, label='top quartile', c='c')\n",
    "plt.plot(top_quartile_pa_adj, label='', c='c', ls='--')\n",
    "plt.legend(loc='upper left')\n",
    "plt.xlabel('Years')\n",
    "plt.title('Adding the Max Plot')"
   ]
  },
  {
   "cell_type": "markdown",
   "metadata": {},
   "source": [
    "#### Histogram of salary"
   ]
  },
  {
   "cell_type": "code",
   "execution_count": 15,
   "metadata": {
    "collapsed": false
   },
   "outputs": [
    {
     "data": {
      "text/plain": [
       "<matplotlib.axes._subplots.AxesSubplot at 0x112a06e50>"
      ]
     },
     "execution_count": 15,
     "metadata": {},
     "output_type": "execute_result"
    },
    {
     "data": {
      "image/png": "[encoded data removed]",
      "text/plain": [
       "<matplotlib.figure.Figure at 0x112cbc810>"
      ]
     },
     "metadata": {},
     "output_type": "display_data"
    }
   ],
   "source": [
    "salaries.salary.hist()"
   ]
  },
  {
   "cell_type": "markdown",
   "metadata": {
    "collapsed": true
   },
   "source": [
    "#### First let's note that the data for the salaries is spanning from 1985 to 2016, unlike other datasets\n",
    "- the inflation adjusted data does not change the trends so we will continue with the nominal data \n",
    "- the spread between mean an median increases at a fast rate \n",
    "- so we need a better understanding of the difference between average/median and maximum values. Since there are huge inequalities between players, what are the reasons:\n",
    "    - skills?\n",
    "    - college?\n",
    "    - team?\n",
    "    - but the first step would be to understand the origin of the maximum values"
   ]
  },
  {
   "cell_type": "markdown",
   "metadata": {},
   "source": [
    "## Understanding the highest salaries"
   ]
  },
  {
   "cell_type": "markdown",
   "metadata": {},
   "source": [
    "We shall look at the highest salaries per year and not overall because of salaries evolution, we would only get data in the latest years."
   ]
  },
  {
   "cell_type": "code",
   "execution_count": 16,
   "metadata": {
    "collapsed": false
   },
   "outputs": [],
   "source": [
    "top_1pct_salaries_per_annum = salaries.groupby\\\n",
    "                               ('yearID', group_keys=False).apply\\\n",
    "                               (lambda g: g[g.salary>= g.salary.quantile(0.99)]).reset_index(drop=True)"
   ]
  },
  {
   "cell_type": "code",
   "execution_count": 17,
   "metadata": {
    "collapsed": false
   },
   "outputs": [
    {
     "data": {
      "text/html": [
       "<div>\n",
       "<table border=\"1\" class=\"dataframe\">\n",
       "  <thead>\n",
       "    <tr style=\"text-align: right;\">\n",
       "      <th></th>\n",
       "      <th>yearID</th>\n",
       "      <th>teamID</th>\n",
       "      <th>lgID</th>\n",
       "      <th>playerID</th>\n",
       "      <th>salary</th>\n",
       "      <th>CPI</th>\n",
       "      <th>salary_adj</th>\n",
       "    </tr>\n",
       "  </thead>\n",
       "  <tbody>\n",
       "    <tr>\n",
       "      <th>0</th>\n",
       "      <td>1985</td>\n",
       "      <td>ATL</td>\n",
       "      <td>NL</td>\n",
       "      <td>murphda05</td>\n",
       "      <td>1625000</td>\n",
       "      <td>107.55</td>\n",
       "      <td>3.626334e+06</td>\n",
       "    </tr>\n",
       "    <tr>\n",
       "      <th>1</th>\n",
       "      <td>1985</td>\n",
       "      <td>NYA</td>\n",
       "      <td>AL</td>\n",
       "      <td>winfida01</td>\n",
       "      <td>1795704</td>\n",
       "      <td>107.55</td>\n",
       "      <td>4.007275e+06</td>\n",
       "    </tr>\n",
       "    <tr>\n",
       "      <th>2</th>\n",
       "      <td>1985</td>\n",
       "      <td>NYN</td>\n",
       "      <td>NL</td>\n",
       "      <td>cartega01</td>\n",
       "      <td>2028571</td>\n",
       "      <td>107.55</td>\n",
       "      <td>4.526939e+06</td>\n",
       "    </tr>\n",
       "    <tr>\n",
       "      <th>3</th>\n",
       "      <td>1985</td>\n",
       "      <td>NYN</td>\n",
       "      <td>NL</td>\n",
       "      <td>fostege01</td>\n",
       "      <td>1942857</td>\n",
       "      <td>107.55</td>\n",
       "      <td>4.335660e+06</td>\n",
       "    </tr>\n",
       "    <tr>\n",
       "      <th>4</th>\n",
       "      <td>1985</td>\n",
       "      <td>PHI</td>\n",
       "      <td>NL</td>\n",
       "      <td>schmimi01</td>\n",
       "      <td>2130300</td>\n",
       "      <td>107.55</td>\n",
       "      <td>4.753956e+06</td>\n",
       "    </tr>\n",
       "  </tbody>\n",
       "</table>\n",
       "</div>"
      ],
      "text/plain": [
       "   yearID teamID lgID   playerID   salary     CPI    salary_adj\n",
       "0    1985    ATL   NL  murphda05  1625000  107.55  3.626334e+06\n",
       "1    1985    NYA   AL  winfida01  1795704  107.55  4.007275e+06\n",
       "2    1985    NYN   NL  cartega01  2028571  107.55  4.526939e+06\n",
       "3    1985    NYN   NL  fostege01  1942857  107.55  4.335660e+06\n",
       "4    1985    PHI   NL  schmimi01  2130300  107.55  4.753956e+06"
      ]
     },
     "execution_count": 17,
     "metadata": {},
     "output_type": "execute_result"
    }
   ],
   "source": [
    "top_1pct_salaries_per_annum.head()"
   ]
  },
  {
   "cell_type": "markdown",
   "metadata": {
    "collapsed": true
   },
   "source": [
    "### Who are these top paid players?"
   ]
  },
  {
   "cell_type": "markdown",
   "metadata": {},
   "source": [
    "#### which teams do they belong to?"
   ]
  },
  {
   "cell_type": "code",
   "execution_count": 18,
   "metadata": {
    "collapsed": true
   },
   "outputs": [],
   "source": [
    "teams_top_salaries=[]\n",
    "teams_no_top_salaries=[]"
   ]
  },
  {
   "cell_type": "code",
   "execution_count": 19,
   "metadata": {
    "collapsed": false
   },
   "outputs": [],
   "source": [
    "for team in salaries.teamID.unique():\n",
    "    if team in top_1pct_salaries_per_annum.teamID.unique():\n",
    "        teams_top_salaries.append(team)\n",
    "    else:\n",
    "        teams_no_top_salaries.append(team)"
   ]
  },
  {
   "cell_type": "code",
   "execution_count": 20,
   "metadata": {
    "collapsed": false
   },
   "outputs": [
    {
     "name": "stdout",
     "output_type": "stream",
     "text": [
      "- Number of teams without top salaries (best 5% salaries) players:  12\n",
      "- Number of teams with top salaries players: 34\n"
     ]
    }
   ],
   "source": [
    "print \"- Number of teams without top salaries (best 5% salaries) players: \",len(teams_no_top_salaries)\n",
    "print \"- Number of teams with top salaries players:\", len(teams_top_salaries)"
   ]
  },
  {
   "cell_type": "code",
   "execution_count": 21,
   "metadata": {
    "collapsed": false
   },
   "outputs": [
    {
     "name": "stdout",
     "output_type": "stream",
     "text": [
      "['ATL', 'BAL', 'BOS', 'CAL', 'CHA', 'CHN', 'CIN', 'CLE', 'DET', 'HOU', 'KCA', 'LAN', 'MIN', 'ML4', 'NYA', 'NYN', 'OAK', 'PHI', 'PIT', 'SDN', 'SEA', 'SFN', 'SLN', 'TEX', 'TOR', 'COL', 'FLO', 'ANA', 'ARI', 'LAA', 'CHC', 'LAD', 'NYM', 'NYY']\n"
     ]
    }
   ],
   "source": [
    "print teams_top_salaries"
   ]
  },
  {
   "cell_type": "code",
   "execution_count": 22,
   "metadata": {
    "collapsed": false
   },
   "outputs": [
    {
     "data": {
      "text/plain": [
       "teamID\n",
       "NYA    49\n",
       "NYN    27\n",
       "BOS    22\n",
       "LAN    19\n",
       "SFN    15\n",
       "Name: playerID, dtype: int64"
      ]
     },
     "execution_count": 22,
     "metadata": {},
     "output_type": "execute_result"
    }
   ],
   "source": [
    "# count the number of higly paid players per team over the whole period\n",
    "top_1pct_salaries_per_annum.groupby('teamID')['playerID'].count().sort_values(ascending=False).head()"
   ]
  },
  {
   "cell_type": "code",
   "execution_count": 23,
   "metadata": {
    "collapsed": false
   },
   "outputs": [
    {
     "data": {
      "text/plain": [
       "teamID  yearID\n",
       "ANA     2000      1\n",
       "        2001      1\n",
       "ARI     1999      1\n",
       "        2000      1\n",
       "        2001      1\n",
       "Name: playerID, dtype: int64"
      ]
     },
     "execution_count": 23,
     "metadata": {},
     "output_type": "execute_result"
    }
   ],
   "source": [
    "# count the number of higly paid players per team per year\n",
    "top_1pct_salaries_per_annum.groupby(['teamID', 'yearID'])['playerID'].count().head()"
   ]
  },
  {
   "cell_type": "markdown",
   "metadata": {},
   "source": [
    "##### Some team do indeed have more higly paid players "
   ]
  },
  {
   "cell_type": "markdown",
   "metadata": {},
   "source": [
    "### Why these teams have highly paid players? Do they win more on average?"
   ]
  },
  {
   "cell_type": "markdown",
   "metadata": {},
   "source": [
    "#### Interesting dimensions to explore are:\n",
    "- Rank: position in final standings\n",
    "- W: Wins\n",
    "- L: Losses\n",
    "- DivWin: Division Winner (Y or N)\n",
    "- WCWin: Wild Card Winner (Y or N)\n",
    "- LgWin: League Champion(Y or N)\n",
    "- WSWin: World Series Winner (Y or N)\n",
    "- HR: Homeruns by batters\n",
    "- SV: Saves\n",
    "- E: Errors\n",
    "- name: Team's full name"
   ]
  },
  {
   "cell_type": "code",
   "execution_count": 24,
   "metadata": {
    "collapsed": false
   },
   "outputs": [
    {
     "data": {
      "text/html": [
       "<div>\n",
       "<table border=\"1\" class=\"dataframe\">\n",
       "  <thead>\n",
       "    <tr style=\"text-align: right;\">\n",
       "      <th></th>\n",
       "      <th>yearID</th>\n",
       "      <th>lgID</th>\n",
       "      <th>teamID</th>\n",
       "      <th>franchID</th>\n",
       "      <th>divID</th>\n",
       "      <th>Rank</th>\n",
       "      <th>G</th>\n",
       "      <th>Ghome</th>\n",
       "      <th>W</th>\n",
       "      <th>L</th>\n",
       "      <th>DivWin</th>\n",
       "      <th>WCWin</th>\n",
       "      <th>LgWin</th>\n",
       "      <th>WSWin</th>\n",
       "      <th>R</th>\n",
       "      <th>AB</th>\n",
       "      <th>H</th>\n",
       "      <th>2B</th>\n",
       "      <th>3B</th>\n",
       "      <th>HR</th>\n",
       "      <th>BB</th>\n",
       "      <th>SO</th>\n",
       "      <th>SB</th>\n",
       "      <th>CS</th>\n",
       "      <th>HBP</th>\n",
       "      <th>SF</th>\n",
       "      <th>RA</th>\n",
       "      <th>ER</th>\n",
       "      <th>ERA</th>\n",
       "      <th>CG</th>\n",
       "      <th>SHO</th>\n",
       "      <th>SV</th>\n",
       "      <th>IPouts</th>\n",
       "      <th>HA</th>\n",
       "      <th>HRA</th>\n",
       "      <th>BBA</th>\n",
       "      <th>SOA</th>\n",
       "      <th>E</th>\n",
       "      <th>DP</th>\n",
       "      <th>FP</th>\n",
       "      <th>name</th>\n",
       "      <th>park</th>\n",
       "      <th>attendance</th>\n",
       "      <th>BPF</th>\n",
       "      <th>PPF</th>\n",
       "      <th>teamIDBR</th>\n",
       "      <th>teamIDlahman45</th>\n",
       "      <th>teamIDretro</th>\n",
       "    </tr>\n",
       "  </thead>\n",
       "  <tbody>\n",
       "    <tr>\n",
       "      <th>0</th>\n",
       "      <td>1871</td>\n",
       "      <td>NaN</td>\n",
       "      <td>BS1</td>\n",
       "      <td>BNA</td>\n",
       "      <td>NaN</td>\n",
       "      <td>3</td>\n",
       "      <td>31</td>\n",
       "      <td>NaN</td>\n",
       "      <td>20</td>\n",
       "      <td>10</td>\n",
       "      <td>NaN</td>\n",
       "      <td>NaN</td>\n",
       "      <td>N</td>\n",
       "      <td>NaN</td>\n",
       "      <td>401</td>\n",
       "      <td>1372</td>\n",
       "      <td>426</td>\n",
       "      <td>70</td>\n",
       "      <td>37</td>\n",
       "      <td>3</td>\n",
       "      <td>60</td>\n",
       "      <td>19.0</td>\n",
       "      <td>73.0</td>\n",
       "      <td>NaN</td>\n",
       "      <td>NaN</td>\n",
       "      <td>NaN</td>\n",
       "      <td>303</td>\n",
       "      <td>109</td>\n",
       "      <td>3.55</td>\n",
       "      <td>22</td>\n",
       "      <td>1</td>\n",
       "      <td>3</td>\n",
       "      <td>828</td>\n",
       "      <td>367</td>\n",
       "      <td>2</td>\n",
       "      <td>42</td>\n",
       "      <td>23</td>\n",
       "      <td>225</td>\n",
       "      <td>NaN</td>\n",
       "      <td>0.838</td>\n",
       "      <td>Boston Red Stockings</td>\n",
       "      <td>South End Grounds I</td>\n",
       "      <td>NaN</td>\n",
       "      <td>103</td>\n",
       "      <td>98</td>\n",
       "      <td>BOS</td>\n",
       "      <td>BS1</td>\n",
       "      <td>BS1</td>\n",
       "    </tr>\n",
       "    <tr>\n",
       "      <th>1</th>\n",
       "      <td>1871</td>\n",
       "      <td>NaN</td>\n",
       "      <td>CH1</td>\n",
       "      <td>CNA</td>\n",
       "      <td>NaN</td>\n",
       "      <td>2</td>\n",
       "      <td>28</td>\n",
       "      <td>NaN</td>\n",
       "      <td>19</td>\n",
       "      <td>9</td>\n",
       "      <td>NaN</td>\n",
       "      <td>NaN</td>\n",
       "      <td>N</td>\n",
       "      <td>NaN</td>\n",
       "      <td>302</td>\n",
       "      <td>1196</td>\n",
       "      <td>323</td>\n",
       "      <td>52</td>\n",
       "      <td>21</td>\n",
       "      <td>10</td>\n",
       "      <td>60</td>\n",
       "      <td>22.0</td>\n",
       "      <td>69.0</td>\n",
       "      <td>NaN</td>\n",
       "      <td>NaN</td>\n",
       "      <td>NaN</td>\n",
       "      <td>241</td>\n",
       "      <td>77</td>\n",
       "      <td>2.76</td>\n",
       "      <td>25</td>\n",
       "      <td>0</td>\n",
       "      <td>1</td>\n",
       "      <td>753</td>\n",
       "      <td>308</td>\n",
       "      <td>6</td>\n",
       "      <td>28</td>\n",
       "      <td>22</td>\n",
       "      <td>218</td>\n",
       "      <td>NaN</td>\n",
       "      <td>0.829</td>\n",
       "      <td>Chicago White Stockings</td>\n",
       "      <td>Union Base-Ball Grounds</td>\n",
       "      <td>NaN</td>\n",
       "      <td>104</td>\n",
       "      <td>102</td>\n",
       "      <td>CHI</td>\n",
       "      <td>CH1</td>\n",
       "      <td>CH1</td>\n",
       "    </tr>\n",
       "  </tbody>\n",
       "</table>\n",
       "</div>"
      ],
      "text/plain": [
       "   yearID lgID teamID franchID divID  Rank   G  Ghome   W   L DivWin WCWin  \\\n",
       "0    1871  NaN    BS1      BNA   NaN     3  31    NaN  20  10    NaN   NaN   \n",
       "1    1871  NaN    CH1      CNA   NaN     2  28    NaN  19   9    NaN   NaN   \n",
       "\n",
       "  LgWin WSWin    R    AB    H  2B  3B  HR  BB    SO    SB  CS  HBP  SF   RA  \\\n",
       "0     N   NaN  401  1372  426  70  37   3  60  19.0  73.0 NaN  NaN NaN  303   \n",
       "1     N   NaN  302  1196  323  52  21  10  60  22.0  69.0 NaN  NaN NaN  241   \n",
       "\n",
       "    ER   ERA  CG  SHO  SV  IPouts   HA  HRA  BBA  SOA    E  DP     FP  \\\n",
       "0  109  3.55  22    1   3     828  367    2   42   23  225 NaN  0.838   \n",
       "1   77  2.76  25    0   1     753  308    6   28   22  218 NaN  0.829   \n",
       "\n",
       "                      name                     park  attendance  BPF  PPF  \\\n",
       "0     Boston Red Stockings      South End Grounds I         NaN  103   98   \n",
       "1  Chicago White Stockings  Union Base-Ball Grounds         NaN  104  102   \n",
       "\n",
       "  teamIDBR teamIDlahman45 teamIDretro  \n",
       "0      BOS            BS1         BS1  \n",
       "1      CHI            CH1         CH1  "
      ]
     },
     "execution_count": 24,
     "metadata": {},
     "output_type": "execute_result"
    }
   ],
   "source": [
    "teams.head(2)"
   ]
  },
  {
   "cell_type": "code",
   "execution_count": 25,
   "metadata": {
    "collapsed": true
   },
   "outputs": [],
   "source": [
    "# Since we only have salaries data from 1985, we do not need the whole dataset so we slice the part of the dataframe\n",
    "# we are interest into\n",
    "teams_1985_2016 = teams[teams['yearID']>=1985]"
   ]
  },
  {
   "cell_type": "code",
   "execution_count": 26,
   "metadata": {
    "collapsed": false
   },
   "outputs": [
    {
     "data": {
      "text/html": [
       "<div>\n",
       "<table border=\"1\" class=\"dataframe\">\n",
       "  <thead>\n",
       "    <tr style=\"text-align: right;\">\n",
       "      <th></th>\n",
       "      <th>yearID</th>\n",
       "      <th>lgID</th>\n",
       "      <th>teamID</th>\n",
       "      <th>franchID</th>\n",
       "      <th>divID</th>\n",
       "      <th>Rank</th>\n",
       "      <th>G</th>\n",
       "      <th>Ghome</th>\n",
       "      <th>W</th>\n",
       "      <th>L</th>\n",
       "      <th>DivWin</th>\n",
       "      <th>WCWin</th>\n",
       "      <th>LgWin</th>\n",
       "      <th>WSWin</th>\n",
       "      <th>R</th>\n",
       "      <th>AB</th>\n",
       "      <th>H</th>\n",
       "      <th>2B</th>\n",
       "      <th>3B</th>\n",
       "      <th>HR</th>\n",
       "      <th>BB</th>\n",
       "      <th>SO</th>\n",
       "      <th>SB</th>\n",
       "      <th>CS</th>\n",
       "      <th>HBP</th>\n",
       "      <th>SF</th>\n",
       "      <th>RA</th>\n",
       "      <th>ER</th>\n",
       "      <th>ERA</th>\n",
       "      <th>CG</th>\n",
       "      <th>SHO</th>\n",
       "      <th>SV</th>\n",
       "      <th>IPouts</th>\n",
       "      <th>HA</th>\n",
       "      <th>HRA</th>\n",
       "      <th>BBA</th>\n",
       "      <th>SOA</th>\n",
       "      <th>E</th>\n",
       "      <th>DP</th>\n",
       "      <th>FP</th>\n",
       "      <th>name</th>\n",
       "      <th>park</th>\n",
       "      <th>attendance</th>\n",
       "      <th>BPF</th>\n",
       "      <th>PPF</th>\n",
       "      <th>teamIDBR</th>\n",
       "      <th>teamIDlahman45</th>\n",
       "      <th>teamIDretro</th>\n",
       "    </tr>\n",
       "  </thead>\n",
       "  <tbody>\n",
       "    <tr>\n",
       "      <th>1917</th>\n",
       "      <td>1985</td>\n",
       "      <td>NL</td>\n",
       "      <td>ATL</td>\n",
       "      <td>ATL</td>\n",
       "      <td>W</td>\n",
       "      <td>5</td>\n",
       "      <td>162</td>\n",
       "      <td>81.0</td>\n",
       "      <td>66</td>\n",
       "      <td>96</td>\n",
       "      <td>N</td>\n",
       "      <td>NaN</td>\n",
       "      <td>N</td>\n",
       "      <td>N</td>\n",
       "      <td>632</td>\n",
       "      <td>5526</td>\n",
       "      <td>1359</td>\n",
       "      <td>213</td>\n",
       "      <td>28</td>\n",
       "      <td>126</td>\n",
       "      <td>553</td>\n",
       "      <td>849.0</td>\n",
       "      <td>72.0</td>\n",
       "      <td>52.0</td>\n",
       "      <td>NaN</td>\n",
       "      <td>NaN</td>\n",
       "      <td>781</td>\n",
       "      <td>678</td>\n",
       "      <td>4.19</td>\n",
       "      <td>9</td>\n",
       "      <td>9</td>\n",
       "      <td>29</td>\n",
       "      <td>4371</td>\n",
       "      <td>1512</td>\n",
       "      <td>134</td>\n",
       "      <td>642</td>\n",
       "      <td>776</td>\n",
       "      <td>159</td>\n",
       "      <td>197.0</td>\n",
       "      <td>0.976</td>\n",
       "      <td>Atlanta Braves</td>\n",
       "      <td>Atlanta-Fulton County Stadium</td>\n",
       "      <td>1350137.0</td>\n",
       "      <td>105</td>\n",
       "      <td>106</td>\n",
       "      <td>ATL</td>\n",
       "      <td>ATL</td>\n",
       "      <td>ATL</td>\n",
       "    </tr>\n",
       "    <tr>\n",
       "      <th>1918</th>\n",
       "      <td>1985</td>\n",
       "      <td>AL</td>\n",
       "      <td>BAL</td>\n",
       "      <td>BAL</td>\n",
       "      <td>E</td>\n",
       "      <td>4</td>\n",
       "      <td>161</td>\n",
       "      <td>81.0</td>\n",
       "      <td>83</td>\n",
       "      <td>78</td>\n",
       "      <td>N</td>\n",
       "      <td>NaN</td>\n",
       "      <td>N</td>\n",
       "      <td>N</td>\n",
       "      <td>818</td>\n",
       "      <td>5517</td>\n",
       "      <td>1451</td>\n",
       "      <td>234</td>\n",
       "      <td>22</td>\n",
       "      <td>214</td>\n",
       "      <td>604</td>\n",
       "      <td>908.0</td>\n",
       "      <td>69.0</td>\n",
       "      <td>43.0</td>\n",
       "      <td>NaN</td>\n",
       "      <td>NaN</td>\n",
       "      <td>764</td>\n",
       "      <td>694</td>\n",
       "      <td>4.38</td>\n",
       "      <td>32</td>\n",
       "      <td>6</td>\n",
       "      <td>33</td>\n",
       "      <td>4281</td>\n",
       "      <td>1480</td>\n",
       "      <td>160</td>\n",
       "      <td>568</td>\n",
       "      <td>793</td>\n",
       "      <td>115</td>\n",
       "      <td>168.0</td>\n",
       "      <td>0.980</td>\n",
       "      <td>Baltimore Orioles</td>\n",
       "      <td>Memorial Stadium</td>\n",
       "      <td>2132387.0</td>\n",
       "      <td>97</td>\n",
       "      <td>97</td>\n",
       "      <td>BAL</td>\n",
       "      <td>BAL</td>\n",
       "      <td>BAL</td>\n",
       "    </tr>\n",
       "  </tbody>\n",
       "</table>\n",
       "</div>"
      ],
      "text/plain": [
       "      yearID lgID teamID franchID divID  Rank    G  Ghome   W   L DivWin  \\\n",
       "1917    1985   NL    ATL      ATL     W     5  162   81.0  66  96      N   \n",
       "1918    1985   AL    BAL      BAL     E     4  161   81.0  83  78      N   \n",
       "\n",
       "     WCWin LgWin WSWin    R    AB     H   2B  3B   HR   BB     SO    SB    CS  \\\n",
       "1917   NaN     N     N  632  5526  1359  213  28  126  553  849.0  72.0  52.0   \n",
       "1918   NaN     N     N  818  5517  1451  234  22  214  604  908.0  69.0  43.0   \n",
       "\n",
       "      HBP  SF   RA   ER   ERA  CG  SHO  SV  IPouts    HA  HRA  BBA  SOA    E  \\\n",
       "1917  NaN NaN  781  678  4.19   9    9  29    4371  1512  134  642  776  159   \n",
       "1918  NaN NaN  764  694  4.38  32    6  33    4281  1480  160  568  793  115   \n",
       "\n",
       "         DP     FP               name                           park  \\\n",
       "1917  197.0  0.976     Atlanta Braves  Atlanta-Fulton County Stadium   \n",
       "1918  168.0  0.980  Baltimore Orioles               Memorial Stadium   \n",
       "\n",
       "      attendance  BPF  PPF teamIDBR teamIDlahman45 teamIDretro  \n",
       "1917   1350137.0  105  106      ATL            ATL         ATL  \n",
       "1918   2132387.0   97   97      BAL            BAL         BAL  "
      ]
     },
     "execution_count": 26,
     "metadata": {},
     "output_type": "execute_result"
    }
   ],
   "source": [
    "teams_1985_2016.head(2)"
   ]
  },
  {
   "cell_type": "code",
   "execution_count": 27,
   "metadata": {
    "collapsed": true
   },
   "outputs": [],
   "source": [
    "# create a new columns which maps whether the team has high payed players or not "
   ]
  },
  {
   "cell_type": "code",
   "execution_count": 28,
   "metadata": {
    "collapsed": false
   },
   "outputs": [
    {
     "name": "stdout",
     "output_type": "stream",
     "text": [
      "['ATL', 'BAL', 'BOS', 'CAL', 'CHA', 'CHN', 'CIN', 'CLE', 'DET', 'HOU', 'KCA', 'LAN', 'MIN', 'ML4', 'NYA', 'NYN', 'OAK', 'PHI', 'PIT', 'SDN', 'SEA', 'SFN', 'SLN', 'TEX', 'TOR', 'COL', 'FLO', 'ANA', 'ARI', 'LAA', 'CHC', 'LAD', 'NYM', 'NYY']\n",
      "['MON', 'MIL', 'TBA', 'WAS', 'MIA', 'CHW', 'KCR', 'SDP', 'SFG', 'STL', 'TBR', 'WSN']\n"
     ]
    }
   ],
   "source": [
    "print teams_top_salaries\n",
    "print teams_no_top_salaries"
   ]
  },
  {
   "cell_type": "code",
   "execution_count": 29,
   "metadata": {
    "collapsed": true
   },
   "outputs": [],
   "source": [
    "def add_column_bin_salaries(team):\n",
    "    if team in teams_top_salaries:\n",
    "        return 1\n",
    "    elif team in teams_no_top_salaries:\n",
    "        return 0\n",
    "    else:\n",
    "        return -1"
   ]
  },
  {
   "cell_type": "code",
   "execution_count": 65,
   "metadata": {
    "collapsed": false
   },
   "outputs": [],
   "source": [
    "#return a new column matching values from the function add_column_bin_salaries\n",
    "\n",
    "teams_1985_2016['topSalary'] = teams_1985_2016['teamID'].apply(add_column_bin_salaries)"
   ]
  },
  {
   "cell_type": "code",
   "execution_count": 66,
   "metadata": {
    "collapsed": false
   },
   "outputs": [
    {
     "data": {
      "text/html": [
       "<div>\n",
       "<table border=\"1\" class=\"dataframe\">\n",
       "  <thead>\n",
       "    <tr style=\"text-align: right;\">\n",
       "      <th></th>\n",
       "      <th>yearID</th>\n",
       "      <th>lgID</th>\n",
       "      <th>teamID</th>\n",
       "      <th>franchID</th>\n",
       "      <th>divID</th>\n",
       "      <th>Rank</th>\n",
       "      <th>G</th>\n",
       "      <th>Ghome</th>\n",
       "      <th>W</th>\n",
       "      <th>L</th>\n",
       "      <th>DivWin</th>\n",
       "      <th>WCWin</th>\n",
       "      <th>LgWin</th>\n",
       "      <th>WSWin</th>\n",
       "      <th>R</th>\n",
       "      <th>AB</th>\n",
       "      <th>H</th>\n",
       "      <th>2B</th>\n",
       "      <th>3B</th>\n",
       "      <th>HR</th>\n",
       "      <th>BB</th>\n",
       "      <th>SO</th>\n",
       "      <th>SB</th>\n",
       "      <th>CS</th>\n",
       "      <th>HBP</th>\n",
       "      <th>SF</th>\n",
       "      <th>RA</th>\n",
       "      <th>ER</th>\n",
       "      <th>ERA</th>\n",
       "      <th>CG</th>\n",
       "      <th>SHO</th>\n",
       "      <th>SV</th>\n",
       "      <th>IPouts</th>\n",
       "      <th>HA</th>\n",
       "      <th>HRA</th>\n",
       "      <th>BBA</th>\n",
       "      <th>SOA</th>\n",
       "      <th>E</th>\n",
       "      <th>DP</th>\n",
       "      <th>FP</th>\n",
       "      <th>name</th>\n",
       "      <th>park</th>\n",
       "      <th>attendance</th>\n",
       "      <th>BPF</th>\n",
       "      <th>PPF</th>\n",
       "      <th>teamIDBR</th>\n",
       "      <th>teamIDlahman45</th>\n",
       "      <th>teamIDretro</th>\n",
       "      <th>topSalary</th>\n",
       "    </tr>\n",
       "  </thead>\n",
       "  <tbody>\n",
       "    <tr>\n",
       "      <th>2833</th>\n",
       "      <td>2016</td>\n",
       "      <td>AL</td>\n",
       "      <td>TOR</td>\n",
       "      <td>TOR</td>\n",
       "      <td>E</td>\n",
       "      <td>2</td>\n",
       "      <td>162</td>\n",
       "      <td>81.0</td>\n",
       "      <td>89</td>\n",
       "      <td>73</td>\n",
       "      <td>N</td>\n",
       "      <td>Y</td>\n",
       "      <td>N</td>\n",
       "      <td>N</td>\n",
       "      <td>759</td>\n",
       "      <td>5479</td>\n",
       "      <td>1358</td>\n",
       "      <td>276</td>\n",
       "      <td>18</td>\n",
       "      <td>221</td>\n",
       "      <td>632</td>\n",
       "      <td>1362.0</td>\n",
       "      <td>54.0</td>\n",
       "      <td>24.0</td>\n",
       "      <td>55.0</td>\n",
       "      <td>40.0</td>\n",
       "      <td>666</td>\n",
       "      <td>613</td>\n",
       "      <td>3.78</td>\n",
       "      <td>0</td>\n",
       "      <td>10</td>\n",
       "      <td>43</td>\n",
       "      <td>4378</td>\n",
       "      <td>1340</td>\n",
       "      <td>183</td>\n",
       "      <td>461</td>\n",
       "      <td>1314</td>\n",
       "      <td>88</td>\n",
       "      <td>144.0</td>\n",
       "      <td>0.986</td>\n",
       "      <td>Toronto Blue Jays</td>\n",
       "      <td>Rogers Centre</td>\n",
       "      <td>3392099.0</td>\n",
       "      <td>111</td>\n",
       "      <td>110</td>\n",
       "      <td>TOR</td>\n",
       "      <td>TOR</td>\n",
       "      <td>TOR</td>\n",
       "      <td>1</td>\n",
       "    </tr>\n",
       "    <tr>\n",
       "      <th>2834</th>\n",
       "      <td>2016</td>\n",
       "      <td>NL</td>\n",
       "      <td>WAS</td>\n",
       "      <td>WSN</td>\n",
       "      <td>E</td>\n",
       "      <td>1</td>\n",
       "      <td>162</td>\n",
       "      <td>81.0</td>\n",
       "      <td>95</td>\n",
       "      <td>67</td>\n",
       "      <td>Y</td>\n",
       "      <td>N</td>\n",
       "      <td>N</td>\n",
       "      <td>N</td>\n",
       "      <td>763</td>\n",
       "      <td>5490</td>\n",
       "      <td>1403</td>\n",
       "      <td>268</td>\n",
       "      <td>29</td>\n",
       "      <td>203</td>\n",
       "      <td>536</td>\n",
       "      <td>1252.0</td>\n",
       "      <td>121.0</td>\n",
       "      <td>39.0</td>\n",
       "      <td>64.0</td>\n",
       "      <td>63.0</td>\n",
       "      <td>612</td>\n",
       "      <td>570</td>\n",
       "      <td>3.51</td>\n",
       "      <td>1</td>\n",
       "      <td>12</td>\n",
       "      <td>46</td>\n",
       "      <td>4379</td>\n",
       "      <td>1272</td>\n",
       "      <td>155</td>\n",
       "      <td>468</td>\n",
       "      <td>1476</td>\n",
       "      <td>73</td>\n",
       "      <td>142.0</td>\n",
       "      <td>0.988</td>\n",
       "      <td>Washington Nationals</td>\n",
       "      <td>Nationals Park</td>\n",
       "      <td>2481938.0</td>\n",
       "      <td>100</td>\n",
       "      <td>98</td>\n",
       "      <td>WSN</td>\n",
       "      <td>MON</td>\n",
       "      <td>WAS</td>\n",
       "      <td>0</td>\n",
       "    </tr>\n",
       "  </tbody>\n",
       "</table>\n",
       "</div>"
      ],
      "text/plain": [
       "      yearID lgID teamID franchID divID  Rank    G  Ghome   W   L DivWin  \\\n",
       "2833    2016   AL    TOR      TOR     E     2  162   81.0  89  73      N   \n",
       "2834    2016   NL    WAS      WSN     E     1  162   81.0  95  67      Y   \n",
       "\n",
       "     WCWin LgWin WSWin    R    AB     H   2B  3B   HR   BB      SO     SB  \\\n",
       "2833     Y     N     N  759  5479  1358  276  18  221  632  1362.0   54.0   \n",
       "2834     N     N     N  763  5490  1403  268  29  203  536  1252.0  121.0   \n",
       "\n",
       "        CS   HBP    SF   RA   ER   ERA  CG  SHO  SV  IPouts    HA  HRA  BBA  \\\n",
       "2833  24.0  55.0  40.0  666  613  3.78   0   10  43    4378  1340  183  461   \n",
       "2834  39.0  64.0  63.0  612  570  3.51   1   12  46    4379  1272  155  468   \n",
       "\n",
       "       SOA   E     DP     FP                  name            park  \\\n",
       "2833  1314  88  144.0  0.986     Toronto Blue Jays   Rogers Centre   \n",
       "2834  1476  73  142.0  0.988  Washington Nationals  Nationals Park   \n",
       "\n",
       "      attendance  BPF  PPF teamIDBR teamIDlahman45 teamIDretro  topSalary  \n",
       "2833   3392099.0  111  110      TOR            TOR         TOR          1  \n",
       "2834   2481938.0  100   98      WSN            MON         WAS          0  "
      ]
     },
     "execution_count": 66,
     "metadata": {},
     "output_type": "execute_result"
    }
   ],
   "source": [
    "teams_1985_2016.tail(2)"
   ]
  },
  {
   "cell_type": "code",
   "execution_count": 32,
   "metadata": {
    "collapsed": false
   },
   "outputs": [],
   "source": [
    "avg_wins_per_group = pd.DataFrame(teams_1985_2016.groupby(['yearID', 'topSalary'])['W'].mean()).reset_index()\n",
    "avg_losses_per_group = pd.DataFrame(teams_1985_2016.groupby(['yearID', 'topSalary'])['L'].mean()).reset_index()"
   ]
  },
  {
   "cell_type": "code",
   "execution_count": 33,
   "metadata": {
    "collapsed": false
   },
   "outputs": [
    {
     "data": {
      "text/html": [
       "<div>\n",
       "<table border=\"1\" class=\"dataframe\">\n",
       "  <thead>\n",
       "    <tr style=\"text-align: right;\">\n",
       "      <th></th>\n",
       "      <th>yearID</th>\n",
       "      <th>topSalary</th>\n",
       "      <th>L</th>\n",
       "    </tr>\n",
       "  </thead>\n",
       "  <tbody>\n",
       "    <tr>\n",
       "      <th>0</th>\n",
       "      <td>1985</td>\n",
       "      <td>0</td>\n",
       "      <td>77.00</td>\n",
       "    </tr>\n",
       "    <tr>\n",
       "      <th>1</th>\n",
       "      <td>1985</td>\n",
       "      <td>1</td>\n",
       "      <td>80.96</td>\n",
       "    </tr>\n",
       "    <tr>\n",
       "      <th>2</th>\n",
       "      <td>1986</td>\n",
       "      <td>0</td>\n",
       "      <td>83.00</td>\n",
       "    </tr>\n",
       "    <tr>\n",
       "      <th>3</th>\n",
       "      <td>1986</td>\n",
       "      <td>1</td>\n",
       "      <td>80.76</td>\n",
       "    </tr>\n",
       "    <tr>\n",
       "      <th>4</th>\n",
       "      <td>1987</td>\n",
       "      <td>0</td>\n",
       "      <td>71.00</td>\n",
       "    </tr>\n",
       "  </tbody>\n",
       "</table>\n",
       "</div>"
      ],
      "text/plain": [
       "   yearID  topSalary      L\n",
       "0    1985          0  77.00\n",
       "1    1985          1  80.96\n",
       "2    1986          0  83.00\n",
       "3    1986          1  80.76\n",
       "4    1987          0  71.00"
      ]
     },
     "execution_count": 33,
     "metadata": {},
     "output_type": "execute_result"
    }
   ],
   "source": [
    "avg_losses_per_group.head()"
   ]
  },
  {
   "cell_type": "code",
   "execution_count": 34,
   "metadata": {
    "collapsed": false
   },
   "outputs": [
    {
     "data": {
      "text/plain": [
       "<seaborn.axisgrid.FacetGrid at 0x113163510>"
      ]
     },
     "execution_count": 34,
     "metadata": {},
     "output_type": "execute_result"
    },
    {
     "data": {
      "image/png": "[encoded data removed]",
      "text/plain": [
       "<matplotlib.figure.Figure at 0x113163750>"
      ]
     },
     "metadata": {},
     "output_type": "display_data"
    }
   ],
   "source": [
    "sns.set(font_scale=0.9)\n",
    "f = sns.factorplot(x=\"yearID\", y=\"W\",data=avg_wins_per_group, hue='topSalary', size=7)\n",
    "f.set_xticklabels(rotation=40)"
   ]
  },
  {
   "cell_type": "code",
   "execution_count": 35,
   "metadata": {
    "collapsed": false
   },
   "outputs": [
    {
     "data": {
      "text/plain": [
       "<seaborn.axisgrid.FacetGrid at 0x113138f10>"
      ]
     },
     "execution_count": 35,
     "metadata": {},
     "output_type": "execute_result"
    },
    {
     "data": {
      "image/png": "[encoded data removed]",
      "text/plain": [
       "<matplotlib.figure.Figure at 0x1140b71d0>"
      ]
     },
     "metadata": {},
     "output_type": "display_data"
    }
   ],
   "source": [
    "sns.set(font_scale=0.9)\n",
    "f = sns.factorplot(x=\"yearID\", y=\"L\",data=avg_losses_per_group, hue='topSalary', size=7)\n",
    "f.set_xticklabels(rotation=40)"
   ]
  },
  {
   "cell_type": "markdown",
   "metadata": {},
   "source": [
    "- can see that something interesting happened in 1994:\n",
    "    - actuall when searching into it, there was a player strike that ended the season abruptly (http://www.usatoday.com/story/sports/mlb/2014/08/11/1994-mlb-strike/13912279/) \n",
    "- teams with top salary player(s) tend to have steady performance in tearms of average wins and losses \n",
    "    - on average they win more\n",
    "- teams without top salary player(s) have more volatile performances\n",
    "\n",
    "#### - further it could be interesting to see if the players playing in teams with no top salaries moved to top salaries team the years where their teams performed well "
   ]
  },
  {
   "cell_type": "markdown",
   "metadata": {},
   "source": [
    "## Exploring the players attributes\n",
    "\n",
    "###  Look at the most paid players (the top 1%) and looks into them, where they come from  and their statistics compared to average satistics so see if salaries are really justified."
   ]
  },
  {
   "cell_type": "code",
   "execution_count": 36,
   "metadata": {
    "collapsed": false
   },
   "outputs": [
    {
     "data": {
      "text/html": [
       "<div>\n",
       "<table border=\"1\" class=\"dataframe\">\n",
       "  <thead>\n",
       "    <tr style=\"text-align: right;\">\n",
       "      <th></th>\n",
       "      <th>yearID</th>\n",
       "      <th>teamID</th>\n",
       "      <th>lgID</th>\n",
       "      <th>playerID</th>\n",
       "      <th>salary</th>\n",
       "      <th>CPI</th>\n",
       "      <th>salary_adj</th>\n",
       "    </tr>\n",
       "  </thead>\n",
       "  <tbody>\n",
       "    <tr>\n",
       "      <th>0</th>\n",
       "      <td>1985</td>\n",
       "      <td>ATL</td>\n",
       "      <td>NL</td>\n",
       "      <td>murphda05</td>\n",
       "      <td>1625000</td>\n",
       "      <td>107.55</td>\n",
       "      <td>3.626334e+06</td>\n",
       "    </tr>\n",
       "    <tr>\n",
       "      <th>1</th>\n",
       "      <td>1985</td>\n",
       "      <td>NYA</td>\n",
       "      <td>AL</td>\n",
       "      <td>winfida01</td>\n",
       "      <td>1795704</td>\n",
       "      <td>107.55</td>\n",
       "      <td>4.007275e+06</td>\n",
       "    </tr>\n",
       "    <tr>\n",
       "      <th>2</th>\n",
       "      <td>1985</td>\n",
       "      <td>NYN</td>\n",
       "      <td>NL</td>\n",
       "      <td>cartega01</td>\n",
       "      <td>2028571</td>\n",
       "      <td>107.55</td>\n",
       "      <td>4.526939e+06</td>\n",
       "    </tr>\n",
       "    <tr>\n",
       "      <th>3</th>\n",
       "      <td>1985</td>\n",
       "      <td>NYN</td>\n",
       "      <td>NL</td>\n",
       "      <td>fostege01</td>\n",
       "      <td>1942857</td>\n",
       "      <td>107.55</td>\n",
       "      <td>4.335660e+06</td>\n",
       "    </tr>\n",
       "    <tr>\n",
       "      <th>4</th>\n",
       "      <td>1985</td>\n",
       "      <td>PHI</td>\n",
       "      <td>NL</td>\n",
       "      <td>schmimi01</td>\n",
       "      <td>2130300</td>\n",
       "      <td>107.55</td>\n",
       "      <td>4.753956e+06</td>\n",
       "    </tr>\n",
       "  </tbody>\n",
       "</table>\n",
       "</div>"
      ],
      "text/plain": [
       "   yearID teamID lgID   playerID   salary     CPI    salary_adj\n",
       "0    1985    ATL   NL  murphda05  1625000  107.55  3.626334e+06\n",
       "1    1985    NYA   AL  winfida01  1795704  107.55  4.007275e+06\n",
       "2    1985    NYN   NL  cartega01  2028571  107.55  4.526939e+06\n",
       "3    1985    NYN   NL  fostege01  1942857  107.55  4.335660e+06\n",
       "4    1985    PHI   NL  schmimi01  2130300  107.55  4.753956e+06"
      ]
     },
     "execution_count": 36,
     "metadata": {},
     "output_type": "execute_result"
    }
   ],
   "source": [
    "top_1pct_salaries_per_annum.head()"
   ]
  },
  {
   "cell_type": "code",
   "execution_count": 52,
   "metadata": {
    "collapsed": false
   },
   "outputs": [
    {
     "name": "stdout",
     "output_type": "stream",
     "text": [
      "lenght batting dataset:  102816\n",
      "lenght pitching dataset:  44963\n",
      "lenght fielding dataset:  136815\n"
     ]
    }
   ],
   "source": [
    "print 'lenght batting dataset: ',len(batting)\n",
    "print 'lenght pitching dataset: ', len(pitching)\n",
    "print 'lenght fielding dataset: ', len(fielding)"
   ]
  },
  {
   "cell_type": "code",
   "execution_count": 53,
   "metadata": {
    "collapsed": true
   },
   "outputs": [],
   "source": [
    "# so we need to check where our higly players are or if they are in several datasets we can create three columns to \n",
    "# check if player is battling, pitching or fielding "
   ]
  },
  {
   "cell_type": "code",
   "execution_count": 172,
   "metadata": {
    "collapsed": false
   },
   "outputs": [
    {
     "name": "stdout",
     "output_type": "stream",
     "text": [
      "['sabatcc01']\n"
     ]
    }
   ],
   "source": [
    "# One player 'sabatc.01' is not in pitching, bating or fielding, where is he? is this an error? (we found that later\n",
    "#but we moved it here to avoid rerunning the code)\n",
    "import fnmatch\n",
    "players = master.playerID.unique()\n",
    "pattern = 'sabatc*01'\n",
    "matching = fnmatch.filter(players, pattern)\n",
    "print matching"
   ]
  },
  {
   "cell_type": "code",
   "execution_count": 173,
   "metadata": {
    "collapsed": true
   },
   "outputs": [],
   "source": [
    "# So we need to replace this value in the salaries and top_1pct_salaries_per_annum dataframes <= to be done\n",
    "salaries.replace('sabatc.01', 'sabatcc01', inplace=True)\n",
    "top_1pct_salaries_per_annum.replace('sabatc.01', 'sabatcc01', inplace=True)"
   ]
  },
  {
   "cell_type": "code",
   "execution_count": 174,
   "metadata": {
    "collapsed": true
   },
   "outputs": [],
   "source": [
    "def pitcher(player):\n",
    "    if player in pitching.playerID.unique():\n",
    "        return 1\n",
    "    else:\n",
    "        return 0\n",
    "def batter(player):\n",
    "    if player in batting.playerID.unique():\n",
    "        return 1\n",
    "    else:\n",
    "        return 0\n",
    "def fielder(player):\n",
    "    if player in fielding.playerID.unique():\n",
    "        return 1\n",
    "    else:\n",
    "        return 0"
   ]
  },
  {
   "cell_type": "code",
   "execution_count": 175,
   "metadata": {
    "collapsed": false
   },
   "outputs": [],
   "source": [
    "top_1pct_salaries_per_annum['pitcher'] = top_1pct_salaries_per_annum['playerID'].apply(pitcher)\n",
    "top_1pct_salaries_per_annum['batter'] = top_1pct_salaries_per_annum['playerID'].apply(batter)\n",
    "top_1pct_salaries_per_annum['fielder'] = top_1pct_salaries_per_annum['playerID'].apply(fielder)"
   ]
  },
  {
   "cell_type": "code",
   "execution_count": 176,
   "metadata": {
    "collapsed": false
   },
   "outputs": [
    {
     "data": {
      "text/html": [
       "<div>\n",
       "<table border=\"1\" class=\"dataframe\">\n",
       "  <thead>\n",
       "    <tr style=\"text-align: right;\">\n",
       "      <th></th>\n",
       "      <th>yearID</th>\n",
       "      <th>teamID</th>\n",
       "      <th>lgID</th>\n",
       "      <th>playerID</th>\n",
       "      <th>salary</th>\n",
       "      <th>CPI</th>\n",
       "      <th>salary_adj</th>\n",
       "      <th>status</th>\n",
       "      <th>pitcher</th>\n",
       "      <th>batter</th>\n",
       "      <th>fielder</th>\n",
       "    </tr>\n",
       "  </thead>\n",
       "  <tbody>\n",
       "    <tr>\n",
       "      <th>0</th>\n",
       "      <td>1985</td>\n",
       "      <td>ATL</td>\n",
       "      <td>NL</td>\n",
       "      <td>murphda05</td>\n",
       "      <td>1625000</td>\n",
       "      <td>107.55</td>\n",
       "      <td>3.626334e+06</td>\n",
       "      <td>NaN</td>\n",
       "      <td>0</td>\n",
       "      <td>1</td>\n",
       "      <td>1</td>\n",
       "    </tr>\n",
       "    <tr>\n",
       "      <th>1</th>\n",
       "      <td>1985</td>\n",
       "      <td>NYA</td>\n",
       "      <td>AL</td>\n",
       "      <td>winfida01</td>\n",
       "      <td>1795704</td>\n",
       "      <td>107.55</td>\n",
       "      <td>4.007275e+06</td>\n",
       "      <td>NaN</td>\n",
       "      <td>0</td>\n",
       "      <td>1</td>\n",
       "      <td>1</td>\n",
       "    </tr>\n",
       "    <tr>\n",
       "      <th>2</th>\n",
       "      <td>1985</td>\n",
       "      <td>NYN</td>\n",
       "      <td>NL</td>\n",
       "      <td>cartega01</td>\n",
       "      <td>2028571</td>\n",
       "      <td>107.55</td>\n",
       "      <td>4.526939e+06</td>\n",
       "      <td>NaN</td>\n",
       "      <td>0</td>\n",
       "      <td>1</td>\n",
       "      <td>1</td>\n",
       "    </tr>\n",
       "    <tr>\n",
       "      <th>3</th>\n",
       "      <td>1985</td>\n",
       "      <td>NYN</td>\n",
       "      <td>NL</td>\n",
       "      <td>fostege01</td>\n",
       "      <td>1942857</td>\n",
       "      <td>107.55</td>\n",
       "      <td>4.335660e+06</td>\n",
       "      <td>NaN</td>\n",
       "      <td>0</td>\n",
       "      <td>1</td>\n",
       "      <td>1</td>\n",
       "    </tr>\n",
       "    <tr>\n",
       "      <th>4</th>\n",
       "      <td>1985</td>\n",
       "      <td>PHI</td>\n",
       "      <td>NL</td>\n",
       "      <td>schmimi01</td>\n",
       "      <td>2130300</td>\n",
       "      <td>107.55</td>\n",
       "      <td>4.753956e+06</td>\n",
       "      <td>NaN</td>\n",
       "      <td>0</td>\n",
       "      <td>1</td>\n",
       "      <td>1</td>\n",
       "    </tr>\n",
       "  </tbody>\n",
       "</table>\n",
       "</div>"
      ],
      "text/plain": [
       "   yearID teamID lgID   playerID   salary     CPI    salary_adj  status  \\\n",
       "0    1985    ATL   NL  murphda05  1625000  107.55  3.626334e+06     NaN   \n",
       "1    1985    NYA   AL  winfida01  1795704  107.55  4.007275e+06     NaN   \n",
       "2    1985    NYN   NL  cartega01  2028571  107.55  4.526939e+06     NaN   \n",
       "3    1985    NYN   NL  fostege01  1942857  107.55  4.335660e+06     NaN   \n",
       "4    1985    PHI   NL  schmimi01  2130300  107.55  4.753956e+06     NaN   \n",
       "\n",
       "   pitcher  batter  fielder  \n",
       "0        0       1        1  \n",
       "1        0       1        1  \n",
       "2        0       1        1  \n",
       "3        0       1        1  \n",
       "4        0       1        1  "
      ]
     },
     "execution_count": 176,
     "metadata": {},
     "output_type": "execute_result"
    }
   ],
   "source": [
    "top_1pct_salaries_per_annum.head()"
   ]
  },
  {
   "cell_type": "code",
   "execution_count": 187,
   "metadata": {
    "collapsed": false
   },
   "outputs": [
    {
     "name": "stdout",
     "output_type": "stream",
     "text": [
      "85\n",
      "290\n",
      "290\n"
     ]
    }
   ],
   "source": [
    "print top_1pct_salaries_per_annum['pitcher'].sum()\n",
    "print top_1pct_salaries_per_annum['batter'].sum()\n",
    "print top_1pct_salaries_per_annum['fielder'].sum()"
   ]
  },
  {
   "cell_type": "markdown",
   "metadata": {},
   "source": [
    "So all the players are batters and fielders (hope that is how you say it), and only 84 are pitchers. Are they the highest earners?"
   ]
  },
  {
   "cell_type": "code",
   "execution_count": 191,
   "metadata": {
    "collapsed": true
   },
   "outputs": [],
   "source": [
    "mean_salary_pa_top1 = top_1pct_salaries_per_annum.groupby(['yearID', 'pitcher']).mean()['salary_adj']"
   ]
  },
  {
   "cell_type": "code",
   "execution_count": 193,
   "metadata": {
    "collapsed": false
   },
   "outputs": [
    {
     "data": {
      "text/plain": [
       "yearID  pitcher\n",
       "1985    0          4.250033e+06\n",
       "        1          3.823457e+06\n",
       "1986    0          4.609169e+06\n",
       "        1          3.996475e+06\n",
       "1987    0          4.317994e+06\n",
       "1988    0          4.537472e+06\n",
       "        1          4.201400e+06\n",
       "1989    0          4.666031e+06\n",
       "        1          4.905109e+06\n",
       "1990    0          4.704021e+06\n",
       "        1          4.776269e+06\n",
       "1991    0          6.587577e+06\n",
       "        1          6.453946e+06\n",
       "1992    0          8.382300e+06\n",
       "        1          8.657804e+06\n",
       "1993    0          9.226586e+06\n",
       "        1          9.564313e+06\n",
       "1994    0          8.942303e+06\n",
       "        1          9.146997e+06\n",
       "1995    0          1.184563e+07\n",
       "        1          1.142143e+07\n",
       "1996    0          1.134098e+07\n",
       "        1          1.021390e+07\n",
       "1997    0          1.195623e+07\n",
       "        1          1.255723e+07\n",
       "1998    0          1.398087e+07\n",
       "        1          1.336238e+07\n",
       "1999    0          1.409819e+07\n",
       "        1          1.487133e+07\n",
       "2000    0          1.689440e+07\n",
       "        1          1.831565e+07\n",
       "2001    0          1.989062e+07\n",
       "        1          1.900733e+07\n",
       "2002    0          2.189464e+07\n",
       "        1          1.982115e+07\n",
       "2003    0          2.294795e+07\n",
       "        1          2.050311e+07\n",
       "2004    0          2.393480e+07\n",
       "        1          2.223468e+07\n",
       "2005    0          2.469622e+07\n",
       "        1          2.273497e+07\n",
       "2006    0          2.317913e+07\n",
       "        1          2.108900e+07\n",
       "2007    0          2.255034e+07\n",
       "        1          1.840643e+07\n",
       "2008    0          2.288110e+07\n",
       "        1          1.899877e+07\n",
       "2009    0          2.497865e+07\n",
       "        1          2.104662e+07\n",
       "2010    0          2.375065e+07\n",
       "        1          2.445165e+07\n",
       "2011    0          2.508759e+07\n",
       "        1          2.344902e+07\n",
       "2012    0          2.529233e+07\n",
       "        1          2.357104e+07\n",
       "2013    0          2.483369e+07\n",
       "        1          2.456692e+07\n",
       "2014    0          2.412890e+07\n",
       "        1          2.454887e+07\n",
       "2015    0          2.455597e+07\n",
       "        1          2.712356e+07\n",
       "2016    0          2.677602e+07\n",
       "        1          2.837945e+07\n",
       "Name: salary_adj, dtype: float64"
      ]
     },
     "execution_count": 193,
     "metadata": {},
     "output_type": "execute_result"
    }
   ],
   "source": [
    "mean_salary_pa_top1"
   ]
  },
  {
   "cell_type": "code",
   "execution_count": 200,
   "metadata": {
    "collapsed": false
   },
   "outputs": [
    {
     "data": {
      "image/png": "[encoded data removed]",
      "text/plain": [
       "<matplotlib.figure.Figure at 0x1214ed250>"
      ]
     },
     "metadata": {},
     "output_type": "display_data"
    }
   ],
   "source": [
    "sns.factorplot(x='yearID', y='salary', kind='box', data=top_1pct_salaries_per_annum, hue='pitcher', size=8);"
   ]
  },
  {
   "cell_type": "code",
   "execution_count": null,
   "metadata": {
    "collapsed": true
   },
   "outputs": [],
   "source": []
  }
 ],
 "metadata": {
  "kernelspec": {
   "display_name": "Python 2",
   "language": "python",
   "name": "python2"
  },
  "language_info": {
   "codemirror_mode": {
    "name": "ipython",
    "version": 2
   },
   "file_extension": ".py",
   "mimetype": "text/x-python",
   "name": "python",
   "nbconvert_exporter": "python",
   "pygments_lexer": "ipython2",
   "version": "2.7.13"
  }
 },
 "nbformat": 4,
 "nbformat_minor": 0
}
