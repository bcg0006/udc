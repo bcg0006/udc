{
 "cells": [
  {
   "cell_type": "markdown",
   "metadata": {},
   "source": [
    "# Baseball Data: a thorough analysis \n",
    "#### A data set containing complete batting and pitching statistics from 1871 to 2014, plus fielding statistics, standings, team stats, managerial records, post-season data, and more. \n",
    "\n",
    "#### the data is available at: http://www.seanlahman.com/baseball-archive/statistics/"
   ]
  },
  {
   "cell_type": "markdown",
   "metadata": {},
   "source": [
    "### Focus of our analysis\n",
    "#### Our analysis will focus on players salaries:\n",
    "- What is the salary evolution between 1871 and 2014?\n",
    "- Were different teams awarded different salaries?\n",
    "    - were the difference justified?\n",
    "- Did awarded players earn more on average?\n",
    "- What was the influence of appearances on salary?\n",
    "- Did the college attended influence salary of players?\n",
    "- Were the players with the best statistics awarded the with the best salaries?"
   ]
  },
  {
   "cell_type": "markdown",
   "metadata": {},
   "source": [
    "### Packages needed"
   ]
  },
  {
   "cell_type": "code",
   "execution_count": 1,
   "metadata": {
    "collapsed": false
   },
   "outputs": [],
   "source": [
    "# Import General Packages\n",
    "import numpy as np\n",
    "import pandas as pd\n",
    "\n",
    "# Import plotting/graphics packages\n",
    "import matplotlib.pyplot as plt\n",
    "import seaborn as sns \n",
    "\n",
    "# Graphics inline \n",
    "%matplotlib inline"
   ]
  },
  {
   "cell_type": "markdown",
   "metadata": {},
   "source": [
    "### Importing the datasets of interest \n",
    "\n",
    "Main tables:\n",
    "- MASTER - Player names, DOB, and biographical info\n",
    "- Batting - batting statistics\n",
    "- Pitching - pitching statistics\n",
    "- Fielding - fielding statistics\n",
    "\n",
    "\n",
    "Supplemented by theses tables \n",
    "- Teams - yearly stats and standings \n",
    "- Salaries - player salary data\n",
    "- AwardsPlayers - awards won by players\n",
    "- AwardsSharePlayers - award voting for player awards\n",
    "- Appearances - details on the positions a player appeared at\n",
    "- Schools - list of colleges that players attended\n",
    "- CollegePlaying - list of players and the colleges they attended"
   ]
  },
  {
   "cell_type": "code",
   "execution_count": 2,
   "metadata": {
    "collapsed": true
   },
   "outputs": [],
   "source": [
    "master = pd.read_csv('baseballdatabank-2017.1/core/Master.csv')\n",
    "batting = pd.read_csv('baseballdatabank-2017.1/core/Batting.csv')\n",
    "pitching = pd.read_csv('baseballdatabank-2017.1/core/Pitching.csv')\n",
    "fielding = pd.read_csv('baseballdatabank-2017.1/core/Fielding.csv')\n",
    "teams = pd.read_csv('baseballdatabank-2017.1/core/Teams.csv')\n",
    "salaries = pd.read_csv('baseballdatabank-2017.1/core/Salaries.csv')\n",
    "awardPlayers = pd.read_csv('baseballdatabank-2017.1/core/AwardsPlayers.csv')\n",
    "awardsSharePlayers = pd.read_csv('baseballdatabank-2017.1/core/AwardsSharePlayers.csv')\n",
    "appearances = pd.read_csv('baseballdatabank-2017.1/core/Appearances.csv')\n",
    "schools = pd.read_csv('baseballdatabank-2017.1/core/Schools.csv')\n",
    "collegePlaying = pd.read_csv('baseballdatabank-2017.1/core/CollegePlaying.csv')"
   ]
  },
  {
   "cell_type": "markdown",
   "metadata": {},
   "source": [
    "# Salary"
   ]
  },
  {
   "cell_type": "code",
   "execution_count": 11,
   "metadata": {
    "collapsed": false
   },
   "outputs": [
    {
     "data": {
      "text/html": [
       "<div>\n",
       "<table border=\"1\" class=\"dataframe\">\n",
       "  <thead>\n",
       "    <tr style=\"text-align: right;\">\n",
       "      <th></th>\n",
       "      <th>yearID</th>\n",
       "      <th>teamID</th>\n",
       "      <th>lgID</th>\n",
       "      <th>playerID</th>\n",
       "      <th>salary</th>\n",
       "    </tr>\n",
       "  </thead>\n",
       "  <tbody>\n",
       "    <tr>\n",
       "      <th>0</th>\n",
       "      <td>1985</td>\n",
       "      <td>ATL</td>\n",
       "      <td>NL</td>\n",
       "      <td>barkele01</td>\n",
       "      <td>870000</td>\n",
       "    </tr>\n",
       "    <tr>\n",
       "      <th>1</th>\n",
       "      <td>1985</td>\n",
       "      <td>ATL</td>\n",
       "      <td>NL</td>\n",
       "      <td>bedrost01</td>\n",
       "      <td>550000</td>\n",
       "    </tr>\n",
       "    <tr>\n",
       "      <th>2</th>\n",
       "      <td>1985</td>\n",
       "      <td>ATL</td>\n",
       "      <td>NL</td>\n",
       "      <td>benedbr01</td>\n",
       "      <td>545000</td>\n",
       "    </tr>\n",
       "    <tr>\n",
       "      <th>3</th>\n",
       "      <td>1985</td>\n",
       "      <td>ATL</td>\n",
       "      <td>NL</td>\n",
       "      <td>campri01</td>\n",
       "      <td>633333</td>\n",
       "    </tr>\n",
       "    <tr>\n",
       "      <th>4</th>\n",
       "      <td>1985</td>\n",
       "      <td>ATL</td>\n",
       "      <td>NL</td>\n",
       "      <td>ceronri01</td>\n",
       "      <td>625000</td>\n",
       "    </tr>\n",
       "  </tbody>\n",
       "</table>\n",
       "</div>"
      ],
      "text/plain": [
       "   yearID teamID lgID   playerID  salary\n",
       "0    1985    ATL   NL  barkele01  870000\n",
       "1    1985    ATL   NL  bedrost01  550000\n",
       "2    1985    ATL   NL  benedbr01  545000\n",
       "3    1985    ATL   NL   campri01  633333\n",
       "4    1985    ATL   NL  ceronri01  625000"
      ]
     },
     "execution_count": 11,
     "metadata": {},
     "output_type": "execute_result"
    }
   ],
   "source": [
    "salaries.head()"
   ]
  },
  {
   "cell_type": "code",
   "execution_count": 12,
   "metadata": {
    "collapsed": false
   },
   "outputs": [
    {
     "data": {
      "text/plain": [
       "array(['NL', 'AL'], dtype=object)"
      ]
     },
     "execution_count": 12,
     "metadata": {},
     "output_type": "execute_result"
    }
   ],
   "source": [
    "salaries.lgID.unique()"
   ]
  },
  {
   "cell_type": "code",
   "execution_count": 17,
   "metadata": {
    "collapsed": true
   },
   "outputs": [],
   "source": [
    "mean_salary_pa = salaries.groupby(['yearID']).mean()['salary']\n",
    "median_salary_pa = salaries.groupby(['yearID']).median()['salary']\n",
    "max_salary_pa = salaries.groupby(['yearID']).max()['salary']"
   ]
  },
  {
   "cell_type": "code",
   "execution_count": 83,
   "metadata": {
    "collapsed": false
   },
   "outputs": [],
   "source": [
    "top_quartile_pa = salaries[salaries['salary']>salaries['salary']\\\n",
    "                           .quantile(0.75)].dropna().groupby(['yearID']).mean()['salary']"
   ]
  },
  {
   "cell_type": "code",
   "execution_count": 47,
   "metadata": {
    "collapsed": false
   },
   "outputs": [
    {
     "data": {
      "text/plain": [
       "<matplotlib.text.Text at 0x11a82b490>"
      ]
     },
     "execution_count": 47,
     "metadata": {},
     "output_type": "execute_result"
    },
    {
     "data": {
      "image/png": "[encoded data removed]",
      "text/plain": [
       "<matplotlib.figure.Figure at 0x11a684390>"
      ]
     },
     "metadata": {},
     "output_type": "display_data"
    }
   ],
   "source": [
    "plt.subplot(1, 2, 1)\n",
    "plt.plot(mean_salary_pa, label='mean')\n",
    "plt.plot(median_salary_pa, label='median')\n",
    "plt.legend(loc='upper left')\n",
    "plt.xlabel('Years')\n",
    "plt.ylabel('Salary')\n",
    "plt.title('Mean and Median')\n",
    "\n",
    "plt.subplot(1, 2, 2)\n",
    "plt.plot(mean_salary_pa, label='mean')\n",
    "plt.plot(median_salary_pa, label='median')\n",
    "plt.plot(max_salary_pa, label='max')\n",
    "plt.plot(top_quartile_pa, label='top quartile')\n",
    "plt.legend(loc='upper left')\n",
    "plt.xlabel('Years')\n",
    "plt.title('Adding the Max Plot')"
   ]
  },
  {
   "cell_type": "markdown",
   "metadata": {},
   "source": [
    "#### Histogram of salary"
   ]
  },
  {
   "cell_type": "code",
   "execution_count": 67,
   "metadata": {
    "collapsed": false
   },
   "outputs": [
    {
     "data": {
      "text/plain": [
       "<matplotlib.axes._subplots.AxesSubplot at 0x11f757e10>"
      ]
     },
     "execution_count": 67,
     "metadata": {},
     "output_type": "execute_result"
    },
    {
     "data": {
      "image/png": "[encoded data removed]",
      "text/plain": [
       "<matplotlib.figure.Figure at 0x11f224c90>"
      ]
     },
     "metadata": {},
     "output_type": "display_data"
    }
   ],
   "source": [
    "salaries.salary.hist()"
   ]
  },
  {
   "cell_type": "markdown",
   "metadata": {
    "collapsed": true
   },
   "source": [
    "#### First let's note that the data for the salaries is spanning from 1985 to 2016, unlike other datasets\n",
    "- the spread between mean an median increases at a fast rate \n",
    "- is the data adjusted to inflation?\n",
    "    - if not, shall we do it?\n",
    "- so we want to understand more the difference between average/median and maximum values and as we can see the spread is huge. There are huge inequalities between players, what are the reasons:\n",
    "    - skills?\n",
    "    - college?\n",
    "    - team?\n",
    "    - but the first step would be to see where this maximum values come from"
   ]
  },
  {
   "cell_type": "markdown",
   "metadata": {},
   "source": [
    "### Understanding the maximum values "
   ]
  },
  {
   "cell_type": "code",
   "execution_count": 114,
   "metadata": {
    "collapsed": true
   },
   "outputs": [],
   "source": [
    "top_one_pct = salaries[salaries['salary']>salaries['salary'].quantile(0.99)]"
   ]
  },
  {
   "cell_type": "code",
   "execution_count": 115,
   "metadata": {
    "collapsed": false
   },
   "outputs": [
    {
     "data": {
      "text/html": [
       "<div>\n",
       "<table border=\"1\" class=\"dataframe\">\n",
       "  <thead>\n",
       "    <tr style=\"text-align: right;\">\n",
       "      <th></th>\n",
       "      <th>yearID</th>\n",
       "      <th>teamID</th>\n",
       "      <th>lgID</th>\n",
       "      <th>playerID</th>\n",
       "      <th>salary</th>\n",
       "    </tr>\n",
       "  </thead>\n",
       "  <tbody>\n",
       "    <tr>\n",
       "      <th>13923</th>\n",
       "      <td>2001</td>\n",
       "      <td>TEX</td>\n",
       "      <td>AL</td>\n",
       "      <td>rodrial01</td>\n",
       "      <td>22000000</td>\n",
       "    </tr>\n",
       "    <tr>\n",
       "      <th>14766</th>\n",
       "      <td>2002</td>\n",
       "      <td>TEX</td>\n",
       "      <td>AL</td>\n",
       "      <td>rodrial01</td>\n",
       "      <td>22000000</td>\n",
       "    </tr>\n",
       "    <tr>\n",
       "      <th>14782</th>\n",
       "      <td>2002</td>\n",
       "      <td>TOR</td>\n",
       "      <td>AL</td>\n",
       "      <td>delgaca01</td>\n",
       "      <td>19400000</td>\n",
       "    </tr>\n",
       "    <tr>\n",
       "      <th>14934</th>\n",
       "      <td>2003</td>\n",
       "      <td>BOS</td>\n",
       "      <td>AL</td>\n",
       "      <td>ramirma02</td>\n",
       "      <td>20000000</td>\n",
       "    </tr>\n",
       "    <tr>\n",
       "      <th>15349</th>\n",
       "      <td>2003</td>\n",
       "      <td>NYN</td>\n",
       "      <td>NL</td>\n",
       "      <td>vaughmo01</td>\n",
       "      <td>17166667</td>\n",
       "    </tr>\n",
       "  </tbody>\n",
       "</table>\n",
       "</div>"
      ],
      "text/plain": [
       "       yearID teamID lgID   playerID    salary\n",
       "13923    2001    TEX   AL  rodrial01  22000000\n",
       "14766    2002    TEX   AL  rodrial01  22000000\n",
       "14782    2002    TOR   AL  delgaca01  19400000\n",
       "14934    2003    BOS   AL  ramirma02  20000000\n",
       "15349    2003    NYN   NL  vaughmo01  17166667"
      ]
     },
     "execution_count": 115,
     "metadata": {},
     "output_type": "execute_result"
    }
   ],
   "source": [
    "top_one_pct."
   ]
  },
  {
   "cell_type": "code",
   "execution_count": 102,
   "metadata": {
    "collapsed": true
   },
   "outputs": [],
   "source": [
    "teams_top_salaries=[]\n",
    "teams_no_top_salaries=[]"
   ]
  },
  {
   "cell_type": "code",
   "execution_count": 104,
   "metadata": {
    "collapsed": true
   },
   "outputs": [],
   "source": [
    "for team in salaries.teamID.unique():\n",
    "    if team in top_one_pct.teamID.unique():\n",
    "        teams_top_salaries.append(team)\n",
    "    else:\n",
    "        teams_no_top_salaries.append(team)"
   ]
  },
  {
   "cell_type": "code",
   "execution_count": 113,
   "metadata": {
    "collapsed": false
   },
   "outputs": [
    {
     "name": "stdout",
     "output_type": "stream",
     "text": [
      "Teams without top salaries players: 28\n",
      "Teams with top salaries players: 64\n"
     ]
    }
   ],
   "source": [
    "print \"Teams without top salaries players:\",len(teams_no_top_salaries)\n",
    "print \"Teams with top salaries players:\", len(teams_top_salaries)"
   ]
  },
  {
   "cell_type": "code",
   "execution_count": null,
   "metadata": {
    "collapsed": true
   },
   "outputs": [],
   "source": []
  }
 ],
 "metadata": {
  "kernelspec": {
   "display_name": "Python 2",
   "language": "python",
   "name": "python2"
  },
  "language_info": {
   "codemirror_mode": {
    "name": "ipython",
    "version": 2
   },
   "file_extension": ".py",
   "mimetype": "text/x-python",
   "name": "python",
   "nbconvert_exporter": "python",
   "pygments_lexer": "ipython2",
   "version": "2.7.13"
  }
 },
 "nbformat": 4,
 "nbformat_minor": 0
}
