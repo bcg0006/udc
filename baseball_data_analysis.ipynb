{
 "cells": [
  {
   "cell_type": "markdown",
   "metadata": {},
   "source": [
    "# Baseball Data: a thorough analysis \n",
    "#### A data set containing complete batting and pitching statistics from 1871 to 2014, plus fielding statistics, standings, team stats, managerial records, post-season data, and more. \n",
    "\n",
    "#### the data is available at: http://www.seanlahman.com/baseball-archive/statistics/"
   ]
  },
  {
   "cell_type": "markdown",
   "metadata": {},
   "source": [
    "### Focus of our analysis\n",
    "#### Our analysis will focus on players salaries:\n",
    "- What is the salary evolution?\n",
    "- Were different teams awarded different salaries?\n",
    "    - were the difference justified?\n",
    "- Did awarded players earn more on average?\n",
    "- What was the influence of appearances on salary?\n",
    "- Did the college attended influence salary of players?\n",
    "- Were the players with the best statistics awarded the with the best salaries?"
   ]
  },
  {
   "cell_type": "markdown",
   "metadata": {},
   "source": [
    "### Packages needed"
   ]
  },
  {
   "cell_type": "code",
   "execution_count": 165,
   "metadata": {
    "collapsed": false
   },
   "outputs": [],
   "source": [
    "# Import General Packages\n",
    "import numpy as np\n",
    "import pandas as pd\n",
    "\n",
    "# Import plotting/graphics packages\n",
    "import matplotlib.pyplot as plt\n",
    "import seaborn as sns \n",
    "\n",
    "# Graphics inline \n",
    "%matplotlib inline"
   ]
  },
  {
   "cell_type": "markdown",
   "metadata": {},
   "source": [
    "### Importing the datasets of interest \n",
    "\n",
    "Main tables:\n",
    "- MASTER - Player names, DOB, and biographical info\n",
    "- Batting - batting statistics\n",
    "- Pitching - pitching statistics\n",
    "- Fielding - fielding statistics\n",
    "\n",
    "\n",
    "Supplemented by theses tables \n",
    "- Teams - yearly stats and standings \n",
    "- Salaries - player salary data\n",
    "- AwardsPlayers - awards won by players\n",
    "- AwardsSharePlayers - award voting for player awards\n",
    "- Appearances - details on the positions a player appeared at\n",
    "- Schools - list of colleges that players attended\n",
    "- CollegePlaying - list of players and the colleges they attended"
   ]
  },
  {
   "cell_type": "code",
   "execution_count": 166,
   "metadata": {
    "collapsed": true
   },
   "outputs": [],
   "source": [
    "master = pd.read_csv('baseballdatabank-2017.1/core/Master.csv')\n",
    "batting = pd.read_csv('baseballdatabank-2017.1/core/Batting.csv')\n",
    "pitching = pd.read_csv('baseballdatabank-2017.1/core/Pitching.csv')\n",
    "fielding = pd.read_csv('baseballdatabank-2017.1/core/Fielding.csv')\n",
    "teams = pd.read_csv('baseballdatabank-2017.1/core/Teams.csv')\n",
    "salaries = pd.read_csv('baseballdatabank-2017.1/core/Salaries.csv')\n",
    "awardPlayers = pd.read_csv('baseballdatabank-2017.1/core/AwardsPlayers.csv')\n",
    "awardsSharePlayers = pd.read_csv('baseballdatabank-2017.1/core/AwardsSharePlayers.csv')\n",
    "appearances = pd.read_csv('baseballdatabank-2017.1/core/Appearances.csv')\n",
    "schools = pd.read_csv('baseballdatabank-2017.1/core/Schools.csv')\n",
    "collegePlaying = pd.read_csv('baseballdatabank-2017.1/core/CollegePlaying.csv')"
   ]
  },
  {
   "cell_type": "markdown",
   "metadata": {},
   "source": [
    "### External Data ###\n",
    "#### Consumer Price Index from: https://data.bls.gov/timeseries/\n",
    "I assume that the data for salaries is not adjusted to inflation (since no information could be found in the documentation). Therefore, we are going to adjust our salary data to inflation."
   ]
  },
  {
   "cell_type": "code",
   "execution_count": 209,
   "metadata": {
    "collapsed": false
   },
   "outputs": [],
   "source": [
    "cpi_data = pd.read_excel('cpi_usa_85_2016.xlsx', header=10, index_col=None)"
   ]
  },
  {
   "cell_type": "code",
   "execution_count": 240,
   "metadata": {
    "collapsed": false
   },
   "outputs": [
    {
     "data": {
      "text/html": [
       "<div>\n",
       "<table border=\"1\" class=\"dataframe\">\n",
       "  <thead>\n",
       "    <tr style=\"text-align: right;\">\n",
       "      <th></th>\n",
       "      <th>Year</th>\n",
       "      <th>Jan</th>\n",
       "      <th>Feb</th>\n",
       "      <th>Mar</th>\n",
       "      <th>Apr</th>\n",
       "      <th>May</th>\n",
       "      <th>Jun</th>\n",
       "      <th>Jul</th>\n",
       "      <th>Aug</th>\n",
       "      <th>Sep</th>\n",
       "      <th>Oct</th>\n",
       "      <th>Nov</th>\n",
       "      <th>Dec</th>\n",
       "      <th>HALF1</th>\n",
       "      <th>HALF2</th>\n",
       "    </tr>\n",
       "  </thead>\n",
       "  <tbody>\n",
       "    <tr>\n",
       "      <th>27</th>\n",
       "      <td>2012</td>\n",
       "      <td>226.665</td>\n",
       "      <td>227.663</td>\n",
       "      <td>229.392</td>\n",
       "      <td>230.085</td>\n",
       "      <td>229.815</td>\n",
       "      <td>229.478</td>\n",
       "      <td>229.104</td>\n",
       "      <td>230.379</td>\n",
       "      <td>231.407</td>\n",
       "      <td>231.317</td>\n",
       "      <td>230.221</td>\n",
       "      <td>229.601</td>\n",
       "      <td>228.850</td>\n",
       "      <td>230.338</td>\n",
       "    </tr>\n",
       "    <tr>\n",
       "      <th>28</th>\n",
       "      <td>2013</td>\n",
       "      <td>230.280</td>\n",
       "      <td>232.166</td>\n",
       "      <td>232.773</td>\n",
       "      <td>232.531</td>\n",
       "      <td>232.945</td>\n",
       "      <td>233.504</td>\n",
       "      <td>233.596</td>\n",
       "      <td>233.877</td>\n",
       "      <td>234.149</td>\n",
       "      <td>233.546</td>\n",
       "      <td>233.069</td>\n",
       "      <td>233.049</td>\n",
       "      <td>232.366</td>\n",
       "      <td>233.548</td>\n",
       "    </tr>\n",
       "    <tr>\n",
       "      <th>29</th>\n",
       "      <td>2014</td>\n",
       "      <td>233.916</td>\n",
       "      <td>234.781</td>\n",
       "      <td>236.293</td>\n",
       "      <td>237.072</td>\n",
       "      <td>237.900</td>\n",
       "      <td>238.343</td>\n",
       "      <td>238.250</td>\n",
       "      <td>237.852</td>\n",
       "      <td>238.031</td>\n",
       "      <td>237.433</td>\n",
       "      <td>236.151</td>\n",
       "      <td>234.812</td>\n",
       "      <td>236.384</td>\n",
       "      <td>237.088</td>\n",
       "    </tr>\n",
       "    <tr>\n",
       "      <th>30</th>\n",
       "      <td>2015</td>\n",
       "      <td>233.707</td>\n",
       "      <td>234.722</td>\n",
       "      <td>236.119</td>\n",
       "      <td>236.599</td>\n",
       "      <td>237.805</td>\n",
       "      <td>238.638</td>\n",
       "      <td>238.654</td>\n",
       "      <td>238.316</td>\n",
       "      <td>237.945</td>\n",
       "      <td>237.838</td>\n",
       "      <td>237.336</td>\n",
       "      <td>236.525</td>\n",
       "      <td>236.265</td>\n",
       "      <td>237.769</td>\n",
       "    </tr>\n",
       "    <tr>\n",
       "      <th>31</th>\n",
       "      <td>2016</td>\n",
       "      <td>236.916</td>\n",
       "      <td>237.111</td>\n",
       "      <td>238.132</td>\n",
       "      <td>239.261</td>\n",
       "      <td>240.229</td>\n",
       "      <td>241.018</td>\n",
       "      <td>240.628</td>\n",
       "      <td>240.849</td>\n",
       "      <td>241.428</td>\n",
       "      <td>241.729</td>\n",
       "      <td>241.353</td>\n",
       "      <td>241.432</td>\n",
       "      <td>238.778</td>\n",
       "      <td>241.237</td>\n",
       "    </tr>\n",
       "  </tbody>\n",
       "</table>\n",
       "</div>"
      ],
      "text/plain": [
       "    Year      Jan      Feb      Mar      Apr      May      Jun      Jul  \\\n",
       "27  2012  226.665  227.663  229.392  230.085  229.815  229.478  229.104   \n",
       "28  2013  230.280  232.166  232.773  232.531  232.945  233.504  233.596   \n",
       "29  2014  233.916  234.781  236.293  237.072  237.900  238.343  238.250   \n",
       "30  2015  233.707  234.722  236.119  236.599  237.805  238.638  238.654   \n",
       "31  2016  236.916  237.111  238.132  239.261  240.229  241.018  240.628   \n",
       "\n",
       "        Aug      Sep      Oct      Nov      Dec    HALF1    HALF2  \n",
       "27  230.379  231.407  231.317  230.221  229.601  228.850  230.338  \n",
       "28  233.877  234.149  233.546  233.069  233.049  232.366  233.548  \n",
       "29  237.852  238.031  237.433  236.151  234.812  236.384  237.088  \n",
       "30  238.316  237.945  237.838  237.336  236.525  236.265  237.769  \n",
       "31  240.849  241.428  241.729  241.353  241.432  238.778  241.237  "
      ]
     },
     "execution_count": 240,
     "metadata": {},
     "output_type": "execute_result"
    }
   ],
   "source": [
    "cpi_data.tail()"
   ]
  },
  {
   "cell_type": "code",
   "execution_count": 225,
   "metadata": {
    "collapsed": false
   },
   "outputs": [],
   "source": [
    "#Taking the average of HALF1 and HALF 2 to form a yearly CPI\n",
    "yearly_cpi = pd.DataFrame({'Year': cpi_data.Year,'inflation':(cpi_data.HALF1+cpi_data.HALF2)/2}) "
   ]
  },
  {
   "cell_type": "code",
   "execution_count": 241,
   "metadata": {
    "collapsed": false
   },
   "outputs": [
    {
     "data": {
      "text/html": [
       "<div>\n",
       "<table border=\"1\" class=\"dataframe\">\n",
       "  <thead>\n",
       "    <tr style=\"text-align: right;\">\n",
       "      <th></th>\n",
       "      <th>Year</th>\n",
       "      <th>inflation</th>\n",
       "    </tr>\n",
       "  </thead>\n",
       "  <tbody>\n",
       "    <tr>\n",
       "      <th>27</th>\n",
       "      <td>2012</td>\n",
       "      <td>229.5940</td>\n",
       "    </tr>\n",
       "    <tr>\n",
       "      <th>28</th>\n",
       "      <td>2013</td>\n",
       "      <td>232.9570</td>\n",
       "    </tr>\n",
       "    <tr>\n",
       "      <th>29</th>\n",
       "      <td>2014</td>\n",
       "      <td>236.7360</td>\n",
       "    </tr>\n",
       "    <tr>\n",
       "      <th>30</th>\n",
       "      <td>2015</td>\n",
       "      <td>237.0170</td>\n",
       "    </tr>\n",
       "    <tr>\n",
       "      <th>31</th>\n",
       "      <td>2016</td>\n",
       "      <td>240.0075</td>\n",
       "    </tr>\n",
       "  </tbody>\n",
       "</table>\n",
       "</div>"
      ],
      "text/plain": [
       "    Year  inflation\n",
       "27  2012   229.5940\n",
       "28  2013   232.9570\n",
       "29  2014   236.7360\n",
       "30  2015   237.0170\n",
       "31  2016   240.0075"
      ]
     },
     "execution_count": 241,
     "metadata": {},
     "output_type": "execute_result"
    }
   ],
   "source": [
    "yearly_cpi.tail()"
   ]
  },
  {
   "cell_type": "markdown",
   "metadata": {},
   "source": [
    "# Salary analysis with nominal data"
   ]
  },
  {
   "cell_type": "code",
   "execution_count": 205,
   "metadata": {
    "collapsed": false
   },
   "outputs": [
    {
     "data": {
      "text/html": [
       "<div>\n",
       "<table border=\"1\" class=\"dataframe\">\n",
       "  <thead>\n",
       "    <tr style=\"text-align: right;\">\n",
       "      <th></th>\n",
       "      <th>yearID</th>\n",
       "      <th>teamID</th>\n",
       "      <th>lgID</th>\n",
       "      <th>playerID</th>\n",
       "      <th>salary</th>\n",
       "    </tr>\n",
       "  </thead>\n",
       "  <tbody>\n",
       "    <tr>\n",
       "      <th>0</th>\n",
       "      <td>1985</td>\n",
       "      <td>ATL</td>\n",
       "      <td>NL</td>\n",
       "      <td>barkele01</td>\n",
       "      <td>870000</td>\n",
       "    </tr>\n",
       "    <tr>\n",
       "      <th>1</th>\n",
       "      <td>1985</td>\n",
       "      <td>ATL</td>\n",
       "      <td>NL</td>\n",
       "      <td>bedrost01</td>\n",
       "      <td>550000</td>\n",
       "    </tr>\n",
       "    <tr>\n",
       "      <th>2</th>\n",
       "      <td>1985</td>\n",
       "      <td>ATL</td>\n",
       "      <td>NL</td>\n",
       "      <td>benedbr01</td>\n",
       "      <td>545000</td>\n",
       "    </tr>\n",
       "    <tr>\n",
       "      <th>3</th>\n",
       "      <td>1985</td>\n",
       "      <td>ATL</td>\n",
       "      <td>NL</td>\n",
       "      <td>campri01</td>\n",
       "      <td>633333</td>\n",
       "    </tr>\n",
       "    <tr>\n",
       "      <th>4</th>\n",
       "      <td>1985</td>\n",
       "      <td>ATL</td>\n",
       "      <td>NL</td>\n",
       "      <td>ceronri01</td>\n",
       "      <td>625000</td>\n",
       "    </tr>\n",
       "  </tbody>\n",
       "</table>\n",
       "</div>"
      ],
      "text/plain": [
       "   yearID teamID lgID   playerID  salary\n",
       "0    1985    ATL   NL  barkele01  870000\n",
       "1    1985    ATL   NL  bedrost01  550000\n",
       "2    1985    ATL   NL  benedbr01  545000\n",
       "3    1985    ATL   NL   campri01  633333\n",
       "4    1985    ATL   NL  ceronri01  625000"
      ]
     },
     "execution_count": 205,
     "metadata": {},
     "output_type": "execute_result"
    }
   ],
   "source": [
    "salaries.head()"
   ]
  },
  {
   "cell_type": "code",
   "execution_count": 12,
   "metadata": {
    "collapsed": false
   },
   "outputs": [
    {
     "data": {
      "text/plain": [
       "array(['NL', 'AL'], dtype=object)"
      ]
     },
     "execution_count": 12,
     "metadata": {},
     "output_type": "execute_result"
    }
   ],
   "source": [
    "salaries.lgID.unique()"
   ]
  },
  {
   "cell_type": "code",
   "execution_count": 17,
   "metadata": {
    "collapsed": true
   },
   "outputs": [],
   "source": [
    "mean_salary_pa = salaries.groupby(['yearID']).mean()['salary']\n",
    "median_salary_pa = salaries.groupby(['yearID']).median()['salary']\n",
    "max_salary_pa = salaries.groupby(['yearID']).max()['salary']"
   ]
  },
  {
   "cell_type": "code",
   "execution_count": 83,
   "metadata": {
    "collapsed": false
   },
   "outputs": [],
   "source": [
    "top_quartile_pa = salaries[salaries['salary']>salaries['salary']\\\n",
    "                           .quantile(0.75)].dropna().groupby(['yearID']).mean()['salary']"
   ]
  },
  {
   "cell_type": "code",
   "execution_count": 47,
   "metadata": {
    "collapsed": false
   },
   "outputs": [
    {
     "data": {
      "text/plain": [
       "<matplotlib.text.Text at 0x11a82b490>"
      ]
     },
     "execution_count": 47,
     "metadata": {},
     "output_type": "execute_result"
    },
    {
     "data": {
      "image/png": "[encoded data removed]",
      "text/plain": [
       "<matplotlib.figure.Figure at 0x11a684390>"
      ]
     },
     "metadata": {},
     "output_type": "display_data"
    }
   ],
   "source": [
    "plt.subplot(1, 2, 1)\n",
    "plt.plot(mean_salary_pa, label='mean')\n",
    "plt.plot(median_salary_pa, label='median')\n",
    "plt.legend(loc='upper left')\n",
    "plt.xlabel('Years')\n",
    "plt.ylabel('Salary')\n",
    "plt.title('Mean and Median')\n",
    "\n",
    "plt.subplot(1, 2, 2)\n",
    "plt.plot(mean_salary_pa, label='mean')\n",
    "plt.plot(median_salary_pa, label='median')\n",
    "plt.plot(max_salary_pa, label='max')\n",
    "plt.plot(top_quartile_pa, label='top quartile')\n",
    "plt.legend(loc='upper left')\n",
    "plt.xlabel('Years')\n",
    "plt.title('Adding the Max Plot')"
   ]
  },
  {
   "cell_type": "markdown",
   "metadata": {},
   "source": [
    "#### Histogram of salary"
   ]
  },
  {
   "cell_type": "code",
   "execution_count": 206,
   "metadata": {
    "collapsed": false
   },
   "outputs": [
    {
     "data": {
      "text/plain": [
       "<matplotlib.axes._subplots.AxesSubplot at 0x1180b52d0>"
      ]
     },
     "execution_count": 206,
     "metadata": {},
     "output_type": "execute_result"
    },
    {
     "data": {
      "image/png": "[encoded data removed]",
      "text/plain": [
       "<matplotlib.figure.Figure at 0x117d85510>"
      ]
     },
     "metadata": {},
     "output_type": "display_data"
    }
   ],
   "source": [
    "salaries.salary.hist()"
   ]
  },
  {
   "cell_type": "markdown",
   "metadata": {},
   "source": [
    "# Salary with inflation adjusted data"
   ]
  },
  {
   "cell_type": "code",
   "execution_count": 274,
   "metadata": {
    "collapsed": false
   },
   "outputs": [],
   "source": [
    "# Let's adjust our data to inflation "
   ]
  },
  {
   "cell_type": "code",
   "execution_count": 272,
   "metadata": {
    "collapsed": false
   },
   "outputs": [],
   "source": [
    "dict_inflation = dict(zip(yearly_cpi.Year, yearly_cpi.inflation));"
   ]
  },
  {
   "cell_type": "code",
   "execution_count": 275,
   "metadata": {
    "collapsed": false
   },
   "outputs": [],
   "source": [
    "salaries['CPI'] = salaries['yearID'].map(dict_inflation)"
   ]
  },
  {
   "cell_type": "code",
   "execution_count": 295,
   "metadata": {
    "collapsed": true
   },
   "outputs": [],
   "source": [
    "cpi_2016 = yearly_cpi[yearly_cpi['Year']==2016]['inflation'].values[0]"
   ]
  },
  {
   "cell_type": "code",
   "execution_count": 271,
   "metadata": {
    "collapsed": false
   },
   "outputs": [
    {
     "data": {
      "text/html": [
       "<div>\n",
       "<table border=\"1\" class=\"dataframe\">\n",
       "  <thead>\n",
       "    <tr style=\"text-align: right;\">\n",
       "      <th></th>\n",
       "      <th>yearID</th>\n",
       "      <th>teamID</th>\n",
       "      <th>lgID</th>\n",
       "      <th>playerID</th>\n",
       "      <th>salary</th>\n",
       "      <th>CPI</th>\n",
       "    </tr>\n",
       "  </thead>\n",
       "  <tbody>\n",
       "    <tr>\n",
       "      <th>0</th>\n",
       "      <td>1985</td>\n",
       "      <td>ATL</td>\n",
       "      <td>NL</td>\n",
       "      <td>barkele01</td>\n",
       "      <td>870000</td>\n",
       "      <td>107.55</td>\n",
       "    </tr>\n",
       "    <tr>\n",
       "      <th>1</th>\n",
       "      <td>1985</td>\n",
       "      <td>ATL</td>\n",
       "      <td>NL</td>\n",
       "      <td>bedrost01</td>\n",
       "      <td>550000</td>\n",
       "      <td>107.55</td>\n",
       "    </tr>\n",
       "    <tr>\n",
       "      <th>2</th>\n",
       "      <td>1985</td>\n",
       "      <td>ATL</td>\n",
       "      <td>NL</td>\n",
       "      <td>benedbr01</td>\n",
       "      <td>545000</td>\n",
       "      <td>107.55</td>\n",
       "    </tr>\n",
       "    <tr>\n",
       "      <th>3</th>\n",
       "      <td>1985</td>\n",
       "      <td>ATL</td>\n",
       "      <td>NL</td>\n",
       "      <td>campri01</td>\n",
       "      <td>633333</td>\n",
       "      <td>107.55</td>\n",
       "    </tr>\n",
       "    <tr>\n",
       "      <th>4</th>\n",
       "      <td>1985</td>\n",
       "      <td>ATL</td>\n",
       "      <td>NL</td>\n",
       "      <td>ceronri01</td>\n",
       "      <td>625000</td>\n",
       "      <td>107.55</td>\n",
       "    </tr>\n",
       "  </tbody>\n",
       "</table>\n",
       "</div>"
      ],
      "text/plain": [
       "   yearID teamID lgID   playerID  salary     CPI\n",
       "0    1985    ATL   NL  barkele01  870000  107.55\n",
       "1    1985    ATL   NL  bedrost01  550000  107.55\n",
       "2    1985    ATL   NL  benedbr01  545000  107.55\n",
       "3    1985    ATL   NL   campri01  633333  107.55\n",
       "4    1985    ATL   NL  ceronri01  625000  107.55"
      ]
     },
     "execution_count": 271,
     "metadata": {},
     "output_type": "execute_result"
    }
   ],
   "source": [
    "salaries.head()"
   ]
  },
  {
   "cell_type": "code",
   "execution_count": 298,
   "metadata": {
    "collapsed": false
   },
   "outputs": [],
   "source": [
    "salaries['salary_adj'] = (salaries['salary']/salaries['CPI'])*cpi_2016"
   ]
  },
  {
   "cell_type": "code",
   "execution_count": 300,
   "metadata": {
    "collapsed": false
   },
   "outputs": [
    {
     "data": {
      "text/html": [
       "<div>\n",
       "<table border=\"1\" class=\"dataframe\">\n",
       "  <thead>\n",
       "    <tr style=\"text-align: right;\">\n",
       "      <th></th>\n",
       "      <th>yearID</th>\n",
       "      <th>teamID</th>\n",
       "      <th>lgID</th>\n",
       "      <th>playerID</th>\n",
       "      <th>salary</th>\n",
       "      <th>CPI</th>\n",
       "      <th>salary_adj</th>\n",
       "    </tr>\n",
       "  </thead>\n",
       "  <tbody>\n",
       "    <tr>\n",
       "      <th>0</th>\n",
       "      <td>1985</td>\n",
       "      <td>ATL</td>\n",
       "      <td>NL</td>\n",
       "      <td>barkele01</td>\n",
       "      <td>870000</td>\n",
       "      <td>107.55</td>\n",
       "      <td>1.941483e+06</td>\n",
       "    </tr>\n",
       "    <tr>\n",
       "      <th>1</th>\n",
       "      <td>1985</td>\n",
       "      <td>ATL</td>\n",
       "      <td>NL</td>\n",
       "      <td>bedrost01</td>\n",
       "      <td>550000</td>\n",
       "      <td>107.55</td>\n",
       "      <td>1.227374e+06</td>\n",
       "    </tr>\n",
       "    <tr>\n",
       "      <th>2</th>\n",
       "      <td>1985</td>\n",
       "      <td>ATL</td>\n",
       "      <td>NL</td>\n",
       "      <td>benedbr01</td>\n",
       "      <td>545000</td>\n",
       "      <td>107.55</td>\n",
       "      <td>1.216217e+06</td>\n",
       "    </tr>\n",
       "    <tr>\n",
       "      <th>3</th>\n",
       "      <td>1985</td>\n",
       "      <td>ATL</td>\n",
       "      <td>NL</td>\n",
       "      <td>campri01</td>\n",
       "      <td>633333</td>\n",
       "      <td>107.55</td>\n",
       "      <td>1.413340e+06</td>\n",
       "    </tr>\n",
       "    <tr>\n",
       "      <th>4</th>\n",
       "      <td>1985</td>\n",
       "      <td>ATL</td>\n",
       "      <td>NL</td>\n",
       "      <td>ceronri01</td>\n",
       "      <td>625000</td>\n",
       "      <td>107.55</td>\n",
       "      <td>1.394744e+06</td>\n",
       "    </tr>\n",
       "  </tbody>\n",
       "</table>\n",
       "</div>"
      ],
      "text/plain": [
       "   yearID teamID lgID   playerID  salary     CPI    salary_adj\n",
       "0    1985    ATL   NL  barkele01  870000  107.55  1.941483e+06\n",
       "1    1985    ATL   NL  bedrost01  550000  107.55  1.227374e+06\n",
       "2    1985    ATL   NL  benedbr01  545000  107.55  1.216217e+06\n",
       "3    1985    ATL   NL   campri01  633333  107.55  1.413340e+06\n",
       "4    1985    ATL   NL  ceronri01  625000  107.55  1.394744e+06"
      ]
     },
     "execution_count": 300,
     "metadata": {},
     "output_type": "execute_result"
    }
   ],
   "source": [
    "salaries.head()"
   ]
  },
  {
   "cell_type": "code",
   "execution_count": 301,
   "metadata": {
    "collapsed": false
   },
   "outputs": [
    {
     "data": {
      "text/plain": [
       "<matplotlib.text.Text at 0x1163f67d0>"
      ]
     },
     "execution_count": 301,
     "metadata": {},
     "output_type": "execute_result"
    },
    {
     "data": {
      "image/png": "[encoded data removed]",
      "text/plain": [
       "<matplotlib.figure.Figure at 0x116d57750>"
      ]
     },
     "metadata": {},
     "output_type": "display_data"
    }
   ],
   "source": [
    "mean_salary_pa_adj = salaries.groupby(['yearID']).mean()['salary_adj']\n",
    "median_salary_pa_adj = salaries.groupby(['yearID']).median()['salary_adj']\n",
    "max_salary_pa_adj = salaries.groupby(['yearID']).max()['salary_adj']\n",
    "top_quartile_pa_adj = salaries[salaries['salary_adj']>salaries['salary_adj']\\\n",
    "                           .quantile(0.75)].dropna().groupby(['yearID']).mean()['salary_adj']\n",
    "\n",
    "plt.subplot(1, 2, 1)\n",
    "plt.plot(mean_salary_pa_adj, label='mean')\n",
    "plt.plot(median_salary_pa_adj, label='median')\n",
    "plt.legend(loc='upper left')\n",
    "plt.xlabel('Years')\n",
    "plt.ylabel('Salary')\n",
    "plt.title('Mean and Median')\n",
    "\n",
    "plt.subplot(1, 2, 2)\n",
    "plt.plot(mean_salary_pa_adj, label='mean')\n",
    "plt.plot(median_salary_pa_adj, label='median')\n",
    "plt.plot(max_salary_pa_adj, label='max')\n",
    "plt.plot(top_quartile_pa_adj, label='top quartile')\n",
    "plt.legend(loc='upper left')\n",
    "plt.xlabel('Years')\n",
    "plt.title('Adding the Max Plot')"
   ]
  },
  {
   "cell_type": "markdown",
   "metadata": {
    "collapsed": true
   },
   "source": [
    "#### First let's note that the data for the salaries is spanning from 1985 to 2016, unlike other datasets\n",
    "- the spread between mean an median increases at a fast rate \n",
    "- is the data adjusted to inflation?\n",
    "    - if not, shall we do it?\n",
    "- so we want to understand more the difference between average/median and maximum values and as we can see the spread is huge. There are huge inequalities between players, what are the reasons:\n",
    "    - skills?\n",
    "    - college?\n",
    "    - team?\n",
    "    - but the first step would be to see where this maximum values come from"
   ]
  },
  {
   "cell_type": "markdown",
   "metadata": {},
   "source": [
    "### Understanding high salaries"
   ]
  },
  {
   "cell_type": "code",
   "execution_count": 114,
   "metadata": {
    "collapsed": true
   },
   "outputs": [],
   "source": [
    "top_one_pct = salaries[salaries['salary']>salaries['salary'].quantile(0.99)]"
   ]
  },
  {
   "cell_type": "code",
   "execution_count": 116,
   "metadata": {
    "collapsed": false
   },
   "outputs": [
    {
     "data": {
      "text/html": [
       "<div>\n",
       "<table border=\"1\" class=\"dataframe\">\n",
       "  <thead>\n",
       "    <tr style=\"text-align: right;\">\n",
       "      <th></th>\n",
       "      <th>yearID</th>\n",
       "      <th>teamID</th>\n",
       "      <th>lgID</th>\n",
       "      <th>playerID</th>\n",
       "      <th>salary</th>\n",
       "    </tr>\n",
       "  </thead>\n",
       "  <tbody>\n",
       "    <tr>\n",
       "      <th>13923</th>\n",
       "      <td>2001</td>\n",
       "      <td>TEX</td>\n",
       "      <td>AL</td>\n",
       "      <td>rodrial01</td>\n",
       "      <td>22000000</td>\n",
       "    </tr>\n",
       "    <tr>\n",
       "      <th>14766</th>\n",
       "      <td>2002</td>\n",
       "      <td>TEX</td>\n",
       "      <td>AL</td>\n",
       "      <td>rodrial01</td>\n",
       "      <td>22000000</td>\n",
       "    </tr>\n",
       "    <tr>\n",
       "      <th>14782</th>\n",
       "      <td>2002</td>\n",
       "      <td>TOR</td>\n",
       "      <td>AL</td>\n",
       "      <td>delgaca01</td>\n",
       "      <td>19400000</td>\n",
       "    </tr>\n",
       "    <tr>\n",
       "      <th>14934</th>\n",
       "      <td>2003</td>\n",
       "      <td>BOS</td>\n",
       "      <td>AL</td>\n",
       "      <td>ramirma02</td>\n",
       "      <td>20000000</td>\n",
       "    </tr>\n",
       "    <tr>\n",
       "      <th>15349</th>\n",
       "      <td>2003</td>\n",
       "      <td>NYN</td>\n",
       "      <td>NL</td>\n",
       "      <td>vaughmo01</td>\n",
       "      <td>17166667</td>\n",
       "    </tr>\n",
       "  </tbody>\n",
       "</table>\n",
       "</div>"
      ],
      "text/plain": [
       "       yearID teamID lgID   playerID    salary\n",
       "13923    2001    TEX   AL  rodrial01  22000000\n",
       "14766    2002    TEX   AL  rodrial01  22000000\n",
       "14782    2002    TOR   AL  delgaca01  19400000\n",
       "14934    2003    BOS   AL  ramirma02  20000000\n",
       "15349    2003    NYN   NL  vaughmo01  17166667"
      ]
     },
     "execution_count": 116,
     "metadata": {},
     "output_type": "execute_result"
    }
   ],
   "source": [
    "top_one_pct.head()"
   ]
  },
  {
   "cell_type": "code",
   "execution_count": 102,
   "metadata": {
    "collapsed": true
   },
   "outputs": [],
   "source": [
    "teams_top_salaries=[]\n",
    "teams_no_top_salaries=[]"
   ]
  },
  {
   "cell_type": "code",
   "execution_count": 104,
   "metadata": {
    "collapsed": true
   },
   "outputs": [],
   "source": [
    "for team in salaries.teamID.unique():\n",
    "    if team in top_one_pct.teamID.unique():\n",
    "        teams_top_salaries.append(team)\n",
    "    else:\n",
    "        teams_no_top_salaries.append(team)"
   ]
  },
  {
   "cell_type": "code",
   "execution_count": 150,
   "metadata": {
    "collapsed": false
   },
   "outputs": [
    {
     "name": "stdout",
     "output_type": "stream",
     "text": [
      "- Number of teams without top salaries (best 5% salaries) players:  28\n",
      "- Number of teams with top salaries players: 64\n"
     ]
    }
   ],
   "source": [
    "print \"- Number of teams without top salaries (best 5% salaries) players: \",len(teams_no_top_salaries)\n",
    "print \"- Number of teams with top salaries players:\", len(teams_top_salaries)"
   ]
  },
  {
   "cell_type": "code",
   "execution_count": 151,
   "metadata": {
    "collapsed": true
   },
   "outputs": [],
   "source": [
    "#Let's looka the most paid players "
   ]
  },
  {
   "cell_type": "code",
   "execution_count": 153,
   "metadata": {
    "collapsed": false
   },
   "outputs": [
    {
     "data": {
      "text/plain": [
       "array(['rodrial01', 'delgaca01', 'ramirma02', 'vaughmo01', 'martipe02',\n",
       "       'greensh01', 'jeterde01', 'bondsba01', 'sosasa01', 'bagweje01',\n",
       "       'clemero02', 'mussimi01', 'giambja01', 'beltrca01', 'santajo01',\n",
       "       'suzukic01', 'ramirar01', 'soriaal01', 'zambrca01', 'ordonma01',\n",
       "       'leeca01', 'hunteto01', 'teixema01', 'zitoba01', 'lackejo01',\n",
       "       'heltoto01', 'cabremi01', 'sabatcc01', 'howarry01', 'beckejo02',\n",
       "       'wellsve01', 'mauerjo01', 'bayja01', 'hallaro01', 'crawfca02',\n",
       "       'gonzaad01', 'peavyja01', 'fieldpr01', 'verlaju01', 'leecl02',\n",
       "       'hernafe02', 'linceti01', 'vottojo01', 'hamiljo03', 'greinza01',\n",
       "       'kempma01', 'hamelco01', 'youngmi02', 'cainma01', 'pujolal01',\n",
       "       'ellsbja01', 'mccanbr01', 'tanakma01', 'wrighda03', 'canoro01',\n",
       "       'hollima01', 'wainwad01', 'beltrad01', 'werthja01', 'ramirha01',\n",
       "       'sandopa01', 'lestejo01', 'tulowtr01', 'priceda01', 'sanchan01',\n",
       "       'weaveje02', 'wilsocj01', 'ethiean01', 'kershcl01', 'pencehu01',\n",
       "       'buehrma01', 'reyesjo01', 'scherma01', 'davisch02', 'porceri01',\n",
       "       'heywaja01', 'baileho02', 'gonzaca01', 'martivi01', 'uptonju01',\n",
       "       'zimmejo02', 'braunry02', 'cespeyo01', 'sabatc.01', 'shielja02',\n",
       "       'cuetojo01', 'poseybu01', 'choosh01'], dtype=object)"
      ]
     },
     "execution_count": 153,
     "metadata": {},
     "output_type": "execute_result"
    }
   ],
   "source": [
    "top_one_pct.playerID.unique()"
   ]
  },
  {
   "cell_type": "markdown",
   "metadata": {},
   "source": [
    "#### First look at the most paid players (the top 1%) and looks into them, where they come from, team, college and their statistics compared to average satistics so see if salaries are really justified."
   ]
  },
  {
   "cell_type": "markdown",
   "metadata": {},
   "source": [
    "So we have the salaries table where we extracted the top 1% paid players (maybe data should be inflation-adjusted in this case) - get inflation per year in the USA to adjust our data which must be raw since no notes were given concerning it.\n",
    "\n",
    "p,"
   ]
  },
  {
   "cell_type": "code",
   "execution_count": null,
   "metadata": {
    "collapsed": true
   },
   "outputs": [],
   "source": []
  },
  {
   "cell_type": "markdown",
   "metadata": {
    "collapsed": true
   },
   "source": [
    "### Let's look at the differences in salaries between teams"
   ]
  },
  {
   "cell_type": "code",
   "execution_count": 128,
   "metadata": {
    "collapsed": false
   },
   "outputs": [
    {
     "data": {
      "text/plain": [
       "46"
      ]
     },
     "execution_count": 128,
     "metadata": {},
     "output_type": "execute_result"
    }
   ],
   "source": [
    "len(salaries.teamID.unique())"
   ]
  },
  {
   "cell_type": "code",
   "execution_count": 129,
   "metadata": {
    "collapsed": true
   },
   "outputs": [],
   "source": [
    "# first we should check if data is available of every team all the years in the span "
   ]
  },
  {
   "cell_type": "code",
   "execution_count": 144,
   "metadata": {
    "collapsed": false
   },
   "outputs": [],
   "source": [
    "salaries.groupby(['teamID','yearID']).mean()['salary'];"
   ]
  },
  {
   "cell_type": "markdown",
   "metadata": {},
   "source": [
    "## Are differences in team salaries, liked to team victories/Stats?"
   ]
  },
  {
   "cell_type": "code",
   "execution_count": 147,
   "metadata": {
    "collapsed": false
   },
   "outputs": [
    {
     "data": {
      "text/html": [
       "<div>\n",
       "<table border=\"1\" class=\"dataframe\">\n",
       "  <thead>\n",
       "    <tr style=\"text-align: right;\">\n",
       "      <th></th>\n",
       "      <th>yearID</th>\n",
       "      <th>lgID</th>\n",
       "      <th>teamID</th>\n",
       "      <th>franchID</th>\n",
       "      <th>divID</th>\n",
       "      <th>Rank</th>\n",
       "      <th>G</th>\n",
       "      <th>Ghome</th>\n",
       "      <th>W</th>\n",
       "      <th>L</th>\n",
       "      <th>...</th>\n",
       "      <th>DP</th>\n",
       "      <th>FP</th>\n",
       "      <th>name</th>\n",
       "      <th>park</th>\n",
       "      <th>attendance</th>\n",
       "      <th>BPF</th>\n",
       "      <th>PPF</th>\n",
       "      <th>teamIDBR</th>\n",
       "      <th>teamIDlahman45</th>\n",
       "      <th>teamIDretro</th>\n",
       "    </tr>\n",
       "  </thead>\n",
       "  <tbody>\n",
       "    <tr>\n",
       "      <th>0</th>\n",
       "      <td>1871</td>\n",
       "      <td>NaN</td>\n",
       "      <td>BS1</td>\n",
       "      <td>BNA</td>\n",
       "      <td>NaN</td>\n",
       "      <td>3</td>\n",
       "      <td>31</td>\n",
       "      <td>NaN</td>\n",
       "      <td>20</td>\n",
       "      <td>10</td>\n",
       "      <td>...</td>\n",
       "      <td>NaN</td>\n",
       "      <td>0.838</td>\n",
       "      <td>Boston Red Stockings</td>\n",
       "      <td>South End Grounds I</td>\n",
       "      <td>NaN</td>\n",
       "      <td>103</td>\n",
       "      <td>98</td>\n",
       "      <td>BOS</td>\n",
       "      <td>BS1</td>\n",
       "      <td>BS1</td>\n",
       "    </tr>\n",
       "    <tr>\n",
       "      <th>1</th>\n",
       "      <td>1871</td>\n",
       "      <td>NaN</td>\n",
       "      <td>CH1</td>\n",
       "      <td>CNA</td>\n",
       "      <td>NaN</td>\n",
       "      <td>2</td>\n",
       "      <td>28</td>\n",
       "      <td>NaN</td>\n",
       "      <td>19</td>\n",
       "      <td>9</td>\n",
       "      <td>...</td>\n",
       "      <td>NaN</td>\n",
       "      <td>0.829</td>\n",
       "      <td>Chicago White Stockings</td>\n",
       "      <td>Union Base-Ball Grounds</td>\n",
       "      <td>NaN</td>\n",
       "      <td>104</td>\n",
       "      <td>102</td>\n",
       "      <td>CHI</td>\n",
       "      <td>CH1</td>\n",
       "      <td>CH1</td>\n",
       "    </tr>\n",
       "    <tr>\n",
       "      <th>2</th>\n",
       "      <td>1871</td>\n",
       "      <td>NaN</td>\n",
       "      <td>CL1</td>\n",
       "      <td>CFC</td>\n",
       "      <td>NaN</td>\n",
       "      <td>8</td>\n",
       "      <td>29</td>\n",
       "      <td>NaN</td>\n",
       "      <td>10</td>\n",
       "      <td>19</td>\n",
       "      <td>...</td>\n",
       "      <td>NaN</td>\n",
       "      <td>0.814</td>\n",
       "      <td>Cleveland Forest Citys</td>\n",
       "      <td>National Association Grounds</td>\n",
       "      <td>NaN</td>\n",
       "      <td>96</td>\n",
       "      <td>100</td>\n",
       "      <td>CLE</td>\n",
       "      <td>CL1</td>\n",
       "      <td>CL1</td>\n",
       "    </tr>\n",
       "    <tr>\n",
       "      <th>3</th>\n",
       "      <td>1871</td>\n",
       "      <td>NaN</td>\n",
       "      <td>FW1</td>\n",
       "      <td>KEK</td>\n",
       "      <td>NaN</td>\n",
       "      <td>7</td>\n",
       "      <td>19</td>\n",
       "      <td>NaN</td>\n",
       "      <td>7</td>\n",
       "      <td>12</td>\n",
       "      <td>...</td>\n",
       "      <td>NaN</td>\n",
       "      <td>0.803</td>\n",
       "      <td>Fort Wayne Kekiongas</td>\n",
       "      <td>Hamilton Field</td>\n",
       "      <td>NaN</td>\n",
       "      <td>101</td>\n",
       "      <td>107</td>\n",
       "      <td>KEK</td>\n",
       "      <td>FW1</td>\n",
       "      <td>FW1</td>\n",
       "    </tr>\n",
       "    <tr>\n",
       "      <th>4</th>\n",
       "      <td>1871</td>\n",
       "      <td>NaN</td>\n",
       "      <td>NY2</td>\n",
       "      <td>NNA</td>\n",
       "      <td>NaN</td>\n",
       "      <td>5</td>\n",
       "      <td>33</td>\n",
       "      <td>NaN</td>\n",
       "      <td>16</td>\n",
       "      <td>17</td>\n",
       "      <td>...</td>\n",
       "      <td>NaN</td>\n",
       "      <td>0.839</td>\n",
       "      <td>New York Mutuals</td>\n",
       "      <td>Union Grounds (Brooklyn)</td>\n",
       "      <td>NaN</td>\n",
       "      <td>90</td>\n",
       "      <td>88</td>\n",
       "      <td>NYU</td>\n",
       "      <td>NY2</td>\n",
       "      <td>NY2</td>\n",
       "    </tr>\n",
       "  </tbody>\n",
       "</table>\n",
       "<p>5 rows × 48 columns</p>\n",
       "</div>"
      ],
      "text/plain": [
       "   yearID lgID teamID franchID divID  Rank   G  Ghome   W   L     ...       \\\n",
       "0    1871  NaN    BS1      BNA   NaN     3  31    NaN  20  10     ...        \n",
       "1    1871  NaN    CH1      CNA   NaN     2  28    NaN  19   9     ...        \n",
       "2    1871  NaN    CL1      CFC   NaN     8  29    NaN  10  19     ...        \n",
       "3    1871  NaN    FW1      KEK   NaN     7  19    NaN   7  12     ...        \n",
       "4    1871  NaN    NY2      NNA   NaN     5  33    NaN  16  17     ...        \n",
       "\n",
       "   DP     FP                     name                          park  \\\n",
       "0 NaN  0.838     Boston Red Stockings           South End Grounds I   \n",
       "1 NaN  0.829  Chicago White Stockings       Union Base-Ball Grounds   \n",
       "2 NaN  0.814   Cleveland Forest Citys  National Association Grounds   \n",
       "3 NaN  0.803     Fort Wayne Kekiongas                Hamilton Field   \n",
       "4 NaN  0.839         New York Mutuals      Union Grounds (Brooklyn)   \n",
       "\n",
       "   attendance  BPF  PPF  teamIDBR  teamIDlahman45  teamIDretro  \n",
       "0         NaN  103   98       BOS             BS1          BS1  \n",
       "1         NaN  104  102       CHI             CH1          CH1  \n",
       "2         NaN   96  100       CLE             CL1          CL1  \n",
       "3         NaN  101  107       KEK             FW1          FW1  \n",
       "4         NaN   90   88       NYU             NY2          NY2  \n",
       "\n",
       "[5 rows x 48 columns]"
      ]
     },
     "execution_count": 147,
     "metadata": {},
     "output_type": "execute_result"
    }
   ],
   "source": [
    "teams.head()"
   ]
  },
  {
   "cell_type": "code",
   "execution_count": 149,
   "metadata": {
    "collapsed": false
   },
   "outputs": [
    {
     "data": {
      "text/plain": [
       "Index([u'yearID', u'lgID', u'teamID', u'franchID', u'divID', u'Rank', u'G',\n",
       "       u'Ghome', u'W', u'L', u'DivWin', u'WCWin', u'LgWin', u'WSWin', u'R',\n",
       "       u'AB', u'H', u'2B', u'3B', u'HR', u'BB', u'SO', u'SB', u'CS', u'HBP',\n",
       "       u'SF', u'RA', u'ER', u'ERA', u'CG', u'SHO', u'SV', u'IPouts', u'HA',\n",
       "       u'HRA', u'BBA', u'SOA', u'E', u'DP', u'FP', u'name', u'park',\n",
       "       u'attendance', u'BPF', u'PPF', u'teamIDBR', u'teamIDlahman45',\n",
       "       u'teamIDretro'],\n",
       "      dtype='object')"
      ]
     },
     "execution_count": 149,
     "metadata": {},
     "output_type": "execute_result"
    }
   ],
   "source": [
    "teams.columns"
   ]
  },
  {
   "cell_type": "code",
   "execution_count": null,
   "metadata": {
    "collapsed": true
   },
   "outputs": [],
   "source": []
  }
 ],
 "metadata": {
  "kernelspec": {
   "display_name": "Python 2",
   "language": "python",
   "name": "python2"
  },
  "language_info": {
   "codemirror_mode": {
    "name": "ipython",
    "version": 2
   },
   "file_extension": ".py",
   "mimetype": "text/x-python",
   "name": "python",
   "nbconvert_exporter": "python",
   "pygments_lexer": "ipython2",
   "version": "2.7.13"
  }
 },
 "nbformat": 4,
 "nbformat_minor": 0
}
